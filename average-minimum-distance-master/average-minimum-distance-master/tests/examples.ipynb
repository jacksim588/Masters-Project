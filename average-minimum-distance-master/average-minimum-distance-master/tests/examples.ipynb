{
 "cells": [
  {
   "cell_type": "code",
   "execution_count": 1,
   "metadata": {},
   "outputs": [],
   "source": [
    "# run to pretty-print results\n",
    "import numpy as np\n",
    "\n",
    "np.set_printoptions(precision=5, suppress=True)\n",
    "\n",
    "import warnings\n",
    "warnings.filterwarnings(\"ignore\", category=DeprecationWarning)"
   ]
  },
  {
   "cell_type": "markdown",
   "metadata": {},
   "source": [
    "The amd package contains functions for caluclating and comparing AMDs/PDDs, as well as .cif reading functionality provided by either ase or ccdc (license required).\r\n",
    "\r\n",
    "If not installed already, get amd via pip:\r\n",
    "```shell\r\n",
    "$ pip install average-minimum-distance\r\n",
    "```\r\n",
    "\r\n",
    "To read .cifs it is recommended you also pip install ase, the default back end .cif reader. If you have ccdc installed and a valid license, it can be used instead. ccdc also enables searching the CSD by refcode. "
   ]
  },
  {
   "cell_type": "markdown",
   "metadata": {},
   "source": [
    "**Before running any cells below, import amd by running**"
   ]
  },
  {
   "cell_type": "code",
   "execution_count": 2,
   "metadata": {},
   "outputs": [],
   "source": [
    "import amd"
   ]
  },
  {
   "cell_type": "markdown",
   "metadata": {},
   "source": [
    "# Reading cifs"
   ]
  },
  {
   "cell_type": "markdown",
   "metadata": {},
   "source": [
    "## With amd.CifReader"
   ]
  },
  {
   "cell_type": "markdown",
   "metadata": {},
   "source": [
    "To read cifs with amd, create an ```amd.CifReader``` object and pass the path to the cif as below. (The .cifs in this notebook can be found in the tests folder of this project). The CifReader will try to extract the correct information; if a structure cannot be read by default it is skipped by the reader and a warning is printed. This returns an iterator which can be looped over to get all structures from a file. It yields ```PeriodicSet``` objects, which can be handed directly to the AMD/PDD calculator functions below. ```PeriodicSet```s basically have only 3 attributes, a ```name```, ```motif``` and ```cell```."
   ]
  },
  {
   "cell_type": "code",
   "execution_count": 3,
   "metadata": {},
   "outputs": [
    {
     "output_type": "stream",
     "name": "stdout",
     "text": [
      "T2-gamma_240K 92\n",
      "T2-gamma_450K 92\n",
      "T2-gamma_300K 92\n",
      "T2-gamma_500K 92\n",
      "ttbi_beta_pentane_240k 92\n",
      "t2_b_post_sorption_293k 92\n",
      "T2-alpha_NMP_240k 184\n",
      "t2_d_acetone_240k 184\n",
      "ttbi_sub 92\n"
     ]
    }
   ],
   "source": [
    "# one cif, many structures\n",
    "\n",
    "reader = amd.CifReader('T2_experimental.cif')\n",
    "for periodic_set in reader:\n",
    "    print(periodic_set.name, periodic_set.motif.shape[0])   # print name & number of motif points\n",
    "    periodic_set.cell                                       # access unit cell\n",
    "\n",
    "# if you don't care about lazy reading and just want a list of structures,\n",
    "exp_structures = list(amd.CifReader('T2_experimental.cif'))"
   ]
  },
  {
   "cell_type": "markdown",
   "metadata": {},
   "source": [
    "Below, setting ```remove_hydrogens``` to True will ignore all Hydrogen atoms in the file. The CifReader has a few optional arguments, but this is the only stable one and others (like ```heaviest_component``` below) should be only be changed with caution."
   ]
  },
  {
   "cell_type": "code",
   "execution_count": 5,
   "metadata": {},
   "outputs": [],
   "source": [
    "# one cif, one structure\n",
    "\n",
    "gamma = list(amd.CifReader('T2_gamma.cif', remove_hydrogens=True))[0]"
   ]
  },
  {
   "cell_type": "markdown",
   "metadata": {},
   "source": [
    "T2_alpha.cif has a solvent molecule with disorder. Setting ```heaviest_component``` to True (ccdc only) will attempt to remove the solvent by only extracting the heaviest molecule in the asymmetric unit. Use with caution; if for example the asymmetric unit is already expanded in your .cif or you have a co-crystal this results in unintended behaviour."
   ]
  },
  {
   "cell_type": "code",
   "execution_count": 8,
   "metadata": {},
   "outputs": [
    {
     "output_type": "error",
     "ename": "NotImplementedError",
     "evalue": "Parameter heaviest_component not implimented for ase, only ccdc.",
     "traceback": [
      "\u001b[1;31m---------------------------------------------------------------------------\u001b[0m",
      "\u001b[1;31mNotImplementedError\u001b[0m                       Traceback (most recent call last)",
      "\u001b[1;32m<ipython-input-8-116789cbefb4>\u001b[0m in \u001b[0;36m<module>\u001b[1;34m\u001b[0m\n\u001b[0;32m      1\u001b[0m \u001b[1;31m# an odd case where we need ccdc. Will error if not installed or licensed\u001b[0m\u001b[1;33m\u001b[0m\u001b[1;33m\u001b[0m\u001b[1;33m\u001b[0m\u001b[0m\n\u001b[0;32m      2\u001b[0m \u001b[1;33m\u001b[0m\u001b[0m\n\u001b[1;32m----> 3\u001b[1;33m \u001b[0mreader\u001b[0m \u001b[1;33m=\u001b[0m \u001b[0mamd\u001b[0m\u001b[1;33m.\u001b[0m\u001b[0mCifReader\u001b[0m\u001b[1;33m(\u001b[0m\u001b[1;34m'T2_alpha.cif'\u001b[0m\u001b[1;33m,\u001b[0m \u001b[0mreader\u001b[0m\u001b[1;33m=\u001b[0m\u001b[1;34m'ase'\u001b[0m\u001b[1;33m,\u001b[0m \u001b[0mheaviest_component\u001b[0m\u001b[1;33m=\u001b[0m\u001b[1;32mTrue\u001b[0m\u001b[1;33m)\u001b[0m\u001b[1;33m\u001b[0m\u001b[1;33m\u001b[0m\u001b[0m\n\u001b[0m\u001b[0;32m      4\u001b[0m \u001b[0malpha\u001b[0m \u001b[1;33m=\u001b[0m \u001b[0mlist\u001b[0m\u001b[1;33m(\u001b[0m\u001b[0mreader\u001b[0m\u001b[1;33m)\u001b[0m\u001b[1;33m[\u001b[0m\u001b[1;36m0\u001b[0m\u001b[1;33m]\u001b[0m\u001b[1;33m\u001b[0m\u001b[1;33m\u001b[0m\u001b[0m\n\u001b[0;32m      5\u001b[0m \u001b[0mprint\u001b[0m\u001b[1;33m(\u001b[0m\u001b[0malpha\u001b[0m\u001b[1;33m)\u001b[0m\u001b[1;33m\u001b[0m\u001b[1;33m\u001b[0m\u001b[0m\n",
      "\u001b[1;32mc:\\Users\\Clamfighter\\Machine_Learning_Project\\my_env\\lib\\site-packages\\amd\\io.py\u001b[0m in \u001b[0;36m__init__\u001b[1;34m(self, filename, reader, **kwargs)\u001b[0m\n\u001b[0;32m    259\u001b[0m \u001b[1;33m\u001b[0m\u001b[0m\n\u001b[0;32m    260\u001b[0m         \u001b[1;32mif\u001b[0m \u001b[0mself\u001b[0m\u001b[1;33m.\u001b[0m\u001b[0mheaviest_component\u001b[0m \u001b[1;32mand\u001b[0m \u001b[0mreader\u001b[0m \u001b[1;33m!=\u001b[0m \u001b[1;34m'ccdc'\u001b[0m\u001b[1;33m:\u001b[0m\u001b[1;33m\u001b[0m\u001b[1;33m\u001b[0m\u001b[0m\n\u001b[1;32m--> 261\u001b[1;33m             \u001b[1;32mraise\u001b[0m \u001b[0mNotImplementedError\u001b[0m\u001b[1;33m(\u001b[0m\u001b[1;34mf'Parameter heaviest_component not implimented for {reader}, only ccdc.'\u001b[0m\u001b[1;33m)\u001b[0m\u001b[1;33m\u001b[0m\u001b[1;33m\u001b[0m\u001b[0m\n\u001b[0m\u001b[0;32m    262\u001b[0m \u001b[1;33m\u001b[0m\u001b[0m\n\u001b[0;32m    263\u001b[0m         \u001b[1;31m# sets up self._generator which yields PeriodicSet objects\u001b[0m\u001b[1;33m\u001b[0m\u001b[1;33m\u001b[0m\u001b[1;33m\u001b[0m\u001b[0m\n",
      "\u001b[1;31mNotImplementedError\u001b[0m: Parameter heaviest_component not implimented for ase, only ccdc."
     ]
    }
   ],
   "source": [
    "# an odd case where we need ccdc. Will error if not installed or licensed\n",
    "\n",
    "reader = amd.CifReader('T2_alpha.cif', reader='ccdc', heaviest_component=True)\n",
    "alpha = list(reader)[0]\n",
    "print(alpha)"
   ]
  },
  {
   "cell_type": "markdown",
   "metadata": {},
   "source": [
    "## Using ase directly to read .cifs"
   ]
  },
  {
   "cell_type": "markdown",
   "metadata": {},
   "source": [
    "The core object representing a crystal structure in ase is called ```Atoms```. Using ase, you can read ```Atoms``` from a cif or extract the raw data:"
   ]
  },
  {
   "cell_type": "markdown",
   "metadata": {},
   "source": [
    "# Calculating AMDs and PDDs"
   ]
  },
  {
   "cell_type": "markdown",
   "metadata": {},
   "source": [
    "The main calculator functions ```amd.amd``` and ```amd.pdd``` accept two arguments, a periodic set and an integer ```k```. The periodic set can be either a ```PeriodicSet``` object as given by a CifReader, or a pair of numpy arrays (motif, cell)."
   ]
  },
  {
   "cell_type": "code",
   "execution_count": null,
   "metadata": {},
   "outputs": [],
   "source": [
    "k = 100\r\n",
    "\r\n",
    "# one AMD from a .cif with one structure\r\n",
    "gamma = list(amd.CifReader('T2_gamma.cif'))[0]\r\n",
    "gamma_amd = amd.amd(gamma, k) \r\n",
    "print(gamma_amd)\r\n",
    "\r\n",
    "# list of amds from a .cif with many structures\r\n",
    "exp_structures = amd.CifReader('T2_experimental.cif')\r\n",
    "experimental_amds = [amd.amd(periodic_set, k) for periodic_set in exp_structures] # list of AMDs"
   ]
  },
  {
   "cell_type": "code",
   "execution_count": 4,
   "metadata": {},
   "outputs": [
    {
     "name": "stdout",
     "output_type": "stream",
     "text": [
      "PeriodicSet(T2-gamma_240K: 92 motif points in 3 dimensions) [[ 23.2209    0.        0.     ]\n",
      " [-11.61667  20.11667   0.     ]\n",
      " [  0.        0.        7.28333]] [[-5.42665 10.27881  1.82083]\n",
      " [-5.11253 10.46026  5.4625 ]\n",
      " [-4.71482 10.69     0.1311 ]\n",
      " [-4.71482 10.69     3.51057]\n",
      " [-4.4115  10.86521  4.36854]\n",
      " [-4.4115  10.86521  6.55646]\n",
      " [-3.25983 11.53047  4.76177]\n",
      " [-3.25983 11.53047  6.16323]\n",
      " [-2.24572 12.11627  0.6118 ]\n",
      " [-2.24572 12.11627  3.02987]\n",
      " [-2.24085 12.11908  4.03977]\n",
      " [-2.24085 12.11908  6.88523]\n",
      " [-1.22256 12.7073   4.75682]\n",
      " [-1.22256 12.7073   6.16818]\n",
      " [-0.00608 19.67571  1.82083]\n",
      " [-0.00597 19.3128   5.4625 ]\n",
      " [-0.00583 18.85334  0.1311 ]\n",
      " [-0.00583 18.85334  3.51057]\n",
      " [-0.00572 18.50291  4.36854]\n",
      " [-0.00572 18.50291  6.55646]\n",
      " [-0.00531 17.17239  4.76177]\n",
      " [-0.00531 17.17239  6.16323]\n",
      " [-0.00531 13.41178  3.1464 ]\n",
      " [-0.00531 13.41178  4.17772]\n",
      " [-0.00494 16.0008   0.6118 ]\n",
      " [-0.00494 16.0008   3.02987]\n",
      " [-0.00494 15.99516  4.03977]\n",
      " [-0.00494 15.99516  6.88523]\n",
      " [-0.00458 14.81874  4.75682]\n",
      " [-0.00458 14.81874  6.16818]\n",
      " [-0.00298 13.41178  0.49527]\n",
      " [-0.00298 13.41178  6.74728]\n",
      " [ 1.21471 12.7073   4.75682]\n",
      " [ 1.21471 12.7073   6.16818]\n",
      " [ 2.23336 12.11908  4.03977]\n",
      " [ 2.23336 12.11908  6.88523]\n",
      " [ 2.23823 12.11627  0.6118 ]\n",
      " [ 2.23823 12.11627  3.02987]\n",
      " [ 3.2527  11.53047  4.76177]\n",
      " [ 3.2527  11.53047  6.16323]\n",
      " [ 4.40478 10.86521  4.36854]\n",
      " [ 4.40478 10.86521  6.55646]\n",
      " [ 4.70822 10.69     0.1311 ]\n",
      " [ 4.70822 10.69     3.51057]\n",
      " [ 5.10606 10.46026  5.4625 ]\n",
      " [ 5.4203  10.27881  1.82083]\n",
      " [ 6.18394  9.83785  5.4625 ]\n",
      " [ 6.49817  9.6564   1.82083]\n",
      " [ 6.89602  9.42667  3.77277]\n",
      " [ 6.89602  9.42667  7.15223]\n",
      " [ 7.19945  9.25145  0.72688]\n",
      " [ 7.19945  9.25145  2.91479]\n",
      " [ 8.35153  8.5862   1.1201 ]\n",
      " [ 8.35153  8.5862   2.52156]\n",
      " [ 9.366    8.0004   4.25347]\n",
      " [ 9.366    8.0004   6.67153]\n",
      " [ 9.37088  7.99758  0.39811]\n",
      " [ 9.37088  7.99758  3.24356]\n",
      " [10.38953  7.40937  1.11515]\n",
      " [10.38953  7.40937  2.52652]\n",
      " [11.60722  6.70489  3.10561]\n",
      " [11.60722  6.70489  4.13693]\n",
      " [11.60881  5.29793  1.11515]\n",
      " [11.60881  5.29793  2.52652]\n",
      " [11.60918  4.1215   0.39811]\n",
      " [11.60918  4.1215   3.24356]\n",
      " [11.60918  4.11587  4.25347]\n",
      " [11.60918  4.11587  6.67153]\n",
      " [11.60954  6.70489  0.53605]\n",
      " [11.60954  6.70489  6.78807]\n",
      " [11.60954  2.94428  1.1201 ]\n",
      " [11.60954  2.94428  2.52156]\n",
      " [11.60995  1.61376  0.72688]\n",
      " [11.60995  1.61376  2.91479]\n",
      " [11.61006  1.26333  3.77277]\n",
      " [11.61006  1.26333  7.15223]\n",
      " [11.6102   0.80386  1.82083]\n",
      " [11.61031  0.44096  5.4625 ]\n",
      " [12.82679  7.40937  1.11515]\n",
      " [12.82679  7.40937  2.52652]\n",
      " [13.84508  7.99758  0.39811]\n",
      " [13.84508  7.99758  3.24356]\n",
      " [13.84996  8.0004   4.25347]\n",
      " [13.84996  8.0004   6.67153]\n",
      " [14.86406  8.5862   1.1201 ]\n",
      " [14.86406  8.5862   2.52156]\n",
      " [16.01573  9.25145  0.72688]\n",
      " [16.01573  9.25145  2.91479]\n",
      " [16.31906  9.42667  3.77277]\n",
      " [16.31906  9.42667  7.15223]\n",
      " [16.71676  9.6564   1.82083]\n",
      " [17.03088  9.83785  5.4625 ]]\n",
      "[[-98.32268  50.51215  -5.4625 ]\n",
      " [-98.32268  50.51215   1.82083]\n",
      " [-98.32268  50.51215   9.10417]\n",
      " ...\n",
      " [109.92692 -30.39548  -1.82083]\n",
      " [109.92692 -30.39548   5.4625 ]\n",
      " [109.92692 -30.39548  12.74583]] [1 1 1 ... 1 1 1]\n",
      "[[  0.00004 -98.32268  50.51215  -5.4625 ]\n",
      " [  0.00004 -98.32268  50.51215   1.82083]\n",
      " [  0.00004 -98.32268  50.51215   9.10417]\n",
      " ...\n",
      " [  0.00004 109.92692 -30.39548  -1.82083]\n",
      " [  0.00004 109.92692 -30.39548   5.4625 ]\n",
      " [  0.00004 109.92692 -30.39548  12.74583]]\n"
     ]
    }
   ],
   "source": [
    "k = 100\r\n",
    "\r\n",
    "# the pdd interface is the same as amd\r\n",
    "gamma = list(amd.CifReader('T2_gamma.cif'))[0]\r\n",
    "gamma = next(iter(amd.CifReader('T2_gamma.cif')))\r\n",
    "# print(gamma)\r\n",
    "print(gamma, gamma.cell, gamma.motif)\r\n",
    "gamma_pdd = amd.pdd(gamma, k)\r\n",
    "\r\n",
    "print(gamma_pdd)"
   ]
  },
  {
   "cell_type": "code",
   "execution_count": null,
   "metadata": {},
   "outputs": [],
   "source": [
    "import numpy as np\r\n",
    "\r\n",
    "k = 100\r\n",
    "\r\n",
    "# from a tuple (motif, cell) of numpy arrays\r\n",
    "motif = np.array([[0,0,0]]) # one point at the origin\r\n",
    "cell = np.identity(3)       # unit cell = identity (cube with unit edges)\r\n",
    "cubic_pdd = amd.pdd((motif, cell), k)\r\n",
    "\r\n",
    "print(cubic_pdd)"
   ]
  },
  {
   "cell_type": "markdown",
   "metadata": {},
   "source": [
    "# Comparing AMDs and PDDs"
   ]
  },
  {
   "cell_type": "markdown",
   "metadata": {},
   "source": [
    "Two AMDs are typically compared with the l-infinity or Chebyshev metric. Comparing AMDs should be done with ```amd.compare``` (which essentially wraps scipy's cdist for now). It takes two arguments ```reference``` and ```comparison```, either of which can be a single AMD, a list of AMDs, or a numpy array with AMDs in the rows. It returns a distance matrix where the (i,j)-th entry is the AMD-distance between ```reference[i]``` and ```comparison[j]```. If single AMDs are passed it will still return a 2D matrix, so if ```amd_1, amd_2``` are AMDs then ```amd.compare(amd_1, amd_2)[0][0]``` is the distance between them."
   ]
  },
  {
   "cell_type": "code",
   "execution_count": null,
   "metadata": {},
   "outputs": [],
   "source": [
    "import numpy as np\r\n",
    "\r\n",
    "k = 100\r\n",
    "\r\n",
    "gamma = list(amd.CifReader('T2_gamma.cif'))[0]\r\n",
    "gamma_amd = amd.amd(gamma, k)\r\n",
    "\r\n",
    "exp_structures = list(amd.CifReader('T2_experimental.cif'))\r\n",
    "experimental_amds = [amd.amd(periodic_set, k) for periodic_set in exp_structures]\r\n",
    "\r\n",
    "# compare T2-gamma to the other experimental structures\r\n",
    "distance_matrix = amd.compare(gamma_amd, experimental_amds)\r\n",
    "print(distance_matrix)\r\n",
    "\r\n",
    "# this will sort the output by distance and print the closest structures to T2_gamma in order\r\n",
    "for i in np.argsort(distance_matrix[0]):\r\n",
    "    print(exp_structures[i].name, distance_matrix[0][i])"
   ]
  },
  {
   "cell_type": "code",
   "execution_count": null,
   "metadata": {},
   "outputs": [],
   "source": [
    "# compare a set of AMDs pairwise\r\n",
    "distance_matrix = amd.compare(experimental_amds, experimental_amds)\r\n",
    "print(distance_matrix)"
   ]
  },
  {
   "cell_type": "markdown",
   "metadata": {},
   "source": [
    "To compare PDDs, use ```amd.emd``` which accepts two PDDs and returns the distance between them. It does not yet accept collections of PDDs. "
   ]
  },
  {
   "cell_type": "code",
   "execution_count": null,
   "metadata": {},
   "outputs": [],
   "source": [
    "k = 1000\r\n",
    "\r\n",
    "# construct cubic lattice manually\r\n",
    "motif = np.array([[0,0,0]])\r\n",
    "cell = np.identity(3)      \r\n",
    "cubic_pdd = amd.pdd((motif, cell), k)\r\n",
    "\r\n",
    "# read same structure from cif\r\n",
    "cubic_pdd_cif = amd.pdd(list(amd.CifReader('cubic.cif'))[0], k)\r\n",
    "\r\n",
    "# they should be identical (distance 0)\r\n",
    "print(amd.emd(cubic_pdd, cubic_pdd_cif))\r\n",
    "print(type(amd.emd(cubic_pdd, cubic_pdd_cif)))"
   ]
  },
  {
   "cell_type": "markdown",
   "metadata": {},
   "source": [
    "# Extras"
   ]
  },
  {
   "cell_type": "markdown",
   "metadata": {},
   "source": [
    "### Reading by CSD refcode (ccdc only)"
   ]
  },
  {
   "cell_type": "markdown",
   "metadata": {},
   "source": [
    "If you have the ccdc package installed, the ```CSDReader``` object lets you read entries from the CSD. Instead of a path to a file it accepts a list of CSD refcodes. It takes the same optional parameters as ```CifReader``` (except ```reader```), e.g. ```remove_hydrogens```. It has another optional parameter ```families``` which reads in families of structures from the base refcode:"
   ]
  },
  {
   "cell_type": "code",
   "execution_count": null,
   "metadata": {},
   "outputs": [],
   "source": [
    "import amd\r\n",
    "\r\n",
    "# get DEBXIT and ACSALA01\r\n",
    "print(list(amd.CSDReader(['DEBXIT', 'ACSALA01'])))\r\n",
    "\r\n",
    "# get both families (anything like DEBXITXX or ACSALAXX)\r\n",
    "print(list(amd.CSDReader(['DEBXIT', 'ACSALA'], families=True)))"
   ]
  },
  {
   "cell_type": "code",
   "execution_count": null,
   "metadata": {},
   "outputs": [],
   "source": [
    "import ase.io\r\n",
    "\r\n",
    "# read Atoms objects\r\n",
    "atoms = ase.io.read('T2_gamma.cif')             # returns one atoms object\r\n",
    "iterator = ase.io.iread('T2_experimental.cif')  # yields atoms objects\r\n",
    "\r\n",
    "cell = atoms.get_cell().array                # Cartesian unit cell\r\n",
    "motif = atoms.get_positions(wrap=True)       # Cartesian motif (wrap positions into cell)\r\n",
    "\r\n",
    "# read raw data in cif, always an interator (yields CifBlocks)\r\n",
    "blocks = ase.io.cif.parse_cif('T2_gamma.cif')\r\n",
    "for block in blocks:\r\n",
    "    # use as a dictionary\r\n",
    "    print(block['_cell_length_a'])\r\n",
    "    \r\n",
    "    # shortcut to grab cell params. More in ase's docs\r\n",
    "    print(block.get_cellpar())  "
   ]
  }
 ],
 "metadata": {
  "interpreter": {
   "hash": "b8c8c5ce77f0a56d737781878b0ca562042a67810df8c1d8f961440ba451b97c"
  },
  "kernelspec": {
   "display_name": "Python 3.7.6 64-bit ('my_env': venv)",
   "name": "python376jvsc74a57bd0cabf3273fec0e8f7911cea4cbe0d6d7dc9af377d5f14fa2ac4239c22bd50cd1b",
   "language": "python"
  },
  "language_info": {
   "codemirror_mode": {
    "name": "ipython",
    "version": 3
   },
   "file_extension": ".py",
   "mimetype": "text/x-python",
   "name": "python",
   "nbconvert_exporter": "python",
   "pygments_lexer": "ipython3",
   "version": "3.7.6"
  },
  "orig_nbformat": 3
 },
 "nbformat": 4,
 "nbformat_minor": 2
}