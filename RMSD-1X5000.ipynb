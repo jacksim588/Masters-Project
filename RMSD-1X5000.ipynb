{
 "cells": [
  {
   "cell_type": "code",
   "execution_count": 1,
   "source": [
    "import os\r\n",
    "import numpy as np\r\n",
    "import pandas as pd\r\n",
    "import csv\r\n",
    "import time\r\n",
    "from ccdc.io import CrystalReader\r\n",
    "from ccdc.crystal import PackingSimilarity\r\n",
    "\r\n",
    "start = time.time()\r\n",
    "\r\n",
    "directory = r'C:\\Users\\Clamfighter\\Machine_Learning_Project\\my_env\\Masters\\T2_5679_predicted_crystals\\T2_5679_predicted_crystals'\r\n",
    "outputDir = r'C:\\Users\\Clamfighter\\Machine_Learning_Project\\my_env\\Masters\\T2_5679_predicted_crystals\\outputMatchedMolecules.csv'\r\n",
    "PS = PackingSimilarity()\r\n",
    "\r\n",
    "i=0\r\n",
    "with open(outputDir, 'w', encoding='UTF8',newline='') as f:\r\n",
    "    writer = csv.writer(f)\r\n",
    "    for cifName in os.listdir(directory):\r\n",
    "        try:\r\n",
    "            crystal_reader = CrystalReader(directory+'\\\\'+cifName)\r\n",
    "\r\n",
    "            if i==0:\r\n",
    "                leftCrystalName = cifName[:-4]\r\n",
    "                leftCrystal = crystal_reader[0]\r\n",
    "                print('Left Crystal: ',leftCrystalName)\r\n",
    "                #toWrite = ['',leftCrystalName]\r\n",
    "                writer.writerow(['',leftCrystalName])\r\n",
    "\r\n",
    "            else:\r\n",
    "                #print('Comparing ',leftCrystalName,' with ', cifName)\r\n",
    "                rightCrystal = crystal_reader[0]\r\n",
    "                comp = PS.compare(leftCrystal,rightCrystal)\r\n",
    "                rmsd = comp.rmsd\r\n",
    "                writer.writerow([cifName[:-4],rmsd,comp.nmatched_molecules])\r\n",
    "                print(comp.nmatched_molecules)\r\n",
    "                #print('RMSD: ',rmsd)\r\n",
    "        except RuntimeError:\r\n",
    "            writer.writerow([cifName[:-4],'CIF Read Error'])\r\n",
    "        i=+1\r\n",
    "\r\n",
    "end = time.time()\r\n",
    "print('Time Taken: ', end - start,'s')"
   ],
   "outputs": [
    {
     "output_type": "stream",
     "name": "stdout",
     "text": [
      "Left Crystal:  job_00001\n",
      "2\n",
      "5\n",
      "5\n",
      "3\n",
      "3\n",
      "2\n",
      "5\n",
      "1\n",
      "9\n",
      "9\n",
      "2\n",
      "1\n",
      "2\n",
      "3\n",
      "3\n",
      "5\n",
      "2\n",
      "1\n",
      "5\n",
      "3\n",
      "5\n",
      "1\n",
      "1\n",
      "1\n",
      "3\n",
      "2\n"
     ]
    },
    {
     "output_type": "error",
     "ename": "KeyboardInterrupt",
     "evalue": "",
     "traceback": [
      "\u001b[1;31m---------------------------------------------------------------------------\u001b[0m",
      "\u001b[1;31mKeyboardInterrupt\u001b[0m                         Traceback (most recent call last)",
      "\u001b[1;32m<ipython-input-1-dc5f629e4e71>\u001b[0m in \u001b[0;36m<module>\u001b[1;34m\u001b[0m\n\u001b[0;32m     30\u001b[0m                 \u001b[1;31m#print('Comparing ',leftCrystalName,' with ', cifName)\u001b[0m\u001b[1;33m\u001b[0m\u001b[1;33m\u001b[0m\u001b[1;33m\u001b[0m\u001b[0m\n\u001b[0;32m     31\u001b[0m                 \u001b[0mrightCrystal\u001b[0m \u001b[1;33m=\u001b[0m \u001b[0mcrystal_reader\u001b[0m\u001b[1;33m[\u001b[0m\u001b[1;36m0\u001b[0m\u001b[1;33m]\u001b[0m\u001b[1;33m\u001b[0m\u001b[1;33m\u001b[0m\u001b[0m\n\u001b[1;32m---> 32\u001b[1;33m                 \u001b[0mcomp\u001b[0m \u001b[1;33m=\u001b[0m \u001b[0mPS\u001b[0m\u001b[1;33m.\u001b[0m\u001b[0mcompare\u001b[0m\u001b[1;33m(\u001b[0m\u001b[0mleftCrystal\u001b[0m\u001b[1;33m,\u001b[0m\u001b[0mrightCrystal\u001b[0m\u001b[1;33m)\u001b[0m\u001b[1;33m\u001b[0m\u001b[1;33m\u001b[0m\u001b[0m\n\u001b[0m\u001b[0;32m     33\u001b[0m                 \u001b[0mrmsd\u001b[0m \u001b[1;33m=\u001b[0m \u001b[0mcomp\u001b[0m\u001b[1;33m.\u001b[0m\u001b[0mrmsd\u001b[0m\u001b[1;33m\u001b[0m\u001b[1;33m\u001b[0m\u001b[0m\n\u001b[0;32m     34\u001b[0m                 \u001b[0mwriter\u001b[0m\u001b[1;33m.\u001b[0m\u001b[0mwriterow\u001b[0m\u001b[1;33m(\u001b[0m\u001b[1;33m[\u001b[0m\u001b[0mcifName\u001b[0m\u001b[1;33m[\u001b[0m\u001b[1;33m:\u001b[0m\u001b[1;33m-\u001b[0m\u001b[1;36m4\u001b[0m\u001b[1;33m]\u001b[0m\u001b[1;33m,\u001b[0m\u001b[0mrmsd\u001b[0m\u001b[1;33m,\u001b[0m\u001b[0mcomp\u001b[0m\u001b[1;33m.\u001b[0m\u001b[0mnmatched_molecules\u001b[0m\u001b[1;33m]\u001b[0m\u001b[1;33m)\u001b[0m\u001b[1;33m\u001b[0m\u001b[1;33m\u001b[0m\u001b[0m\n",
      "\u001b[1;32mc:\\Users\\Clamfighter\\Machine_Learning_Project\\my_env\\lib\\site-packages\\ccdc\\crystal.py\u001b[0m in \u001b[0;36mcompare\u001b[1;34m(self, reference, target)\u001b[0m\n\u001b[0;32m   1281\u001b[0m         \u001b[0mself\u001b[0m\u001b[1;33m.\u001b[0m\u001b[0m_packing_similarity_search\u001b[0m\u001b[1;33m.\u001b[0m\u001b[0madd_comparison_structure\u001b[0m\u001b[1;33m(\u001b[0m\u001b[0mmsi1\u001b[0m\u001b[1;33m)\u001b[0m\u001b[1;33m\u001b[0m\u001b[1;33m\u001b[0m\u001b[0m\n\u001b[0;32m   1282\u001b[0m         \u001b[0mself\u001b[0m\u001b[1;33m.\u001b[0m\u001b[0m_packing_similarity_search\u001b[0m\u001b[1;33m.\u001b[0m\u001b[0mconstruct_pairwise_comparisons\u001b[0m\u001b[1;33m(\u001b[0m\u001b[1;33m)\u001b[0m\u001b[1;33m\u001b[0m\u001b[1;33m\u001b[0m\u001b[0m\n\u001b[1;32m-> 1283\u001b[1;33m         \u001b[0ml\u001b[0m \u001b[1;33m=\u001b[0m \u001b[0mself\u001b[0m\u001b[1;33m.\u001b[0m\u001b[0m_packing_similarity_search\u001b[0m\u001b[1;33m.\u001b[0m\u001b[0mrun_comparison\u001b[0m\u001b[1;33m(\u001b[0m\u001b[0mmsi0\u001b[0m\u001b[1;33m,\u001b[0m \u001b[0mmsi1\u001b[0m\u001b[1;33m)\u001b[0m\u001b[1;33m\u001b[0m\u001b[1;33m\u001b[0m\u001b[0m\n\u001b[0m\u001b[0;32m   1284\u001b[0m         \u001b[1;32mif\u001b[0m \u001b[0mlen\u001b[0m\u001b[1;33m(\u001b[0m\u001b[0ml\u001b[0m\u001b[1;33m)\u001b[0m \u001b[1;33m==\u001b[0m \u001b[1;36m1\u001b[0m\u001b[1;33m:\u001b[0m\u001b[1;33m\u001b[0m\u001b[1;33m\u001b[0m\u001b[0m\n\u001b[0;32m   1285\u001b[0m             \u001b[1;32mreturn\u001b[0m \u001b[0mPackingSimilarity\u001b[0m\u001b[1;33m.\u001b[0m\u001b[0mComparison\u001b[0m\u001b[1;33m(\u001b[0m\u001b[0ml\u001b[0m\u001b[1;33m[\u001b[0m\u001b[1;36m0\u001b[0m\u001b[1;33m]\u001b[0m\u001b[1;33m,\u001b[0m \u001b[0mreference\u001b[0m\u001b[1;33m,\u001b[0m \u001b[0mtarget\u001b[0m\u001b[1;33m)\u001b[0m\u001b[1;33m\u001b[0m\u001b[1;33m\u001b[0m\u001b[0m\n",
      "\u001b[1;31mKeyboardInterrupt\u001b[0m: "
     ]
    }
   ],
   "metadata": {}
  }
 ],
 "metadata": {
  "orig_nbformat": 4,
  "language_info": {
   "name": "python",
   "version": "3.7.6",
   "mimetype": "text/x-python",
   "codemirror_mode": {
    "name": "ipython",
    "version": 3
   },
   "pygments_lexer": "ipython3",
   "nbconvert_exporter": "python",
   "file_extension": ".py"
  },
  "kernelspec": {
   "name": "python3",
   "display_name": "Python 3.7.6 64-bit ('my_env': venv)"
  },
  "interpreter": {
   "hash": "cabf3273fec0e8f7911cea4cbe0d6d7dc9af377d5f14fa2ac4239c22bd50cd1b"
  }
 },
 "nbformat": 4,
 "nbformat_minor": 2
}