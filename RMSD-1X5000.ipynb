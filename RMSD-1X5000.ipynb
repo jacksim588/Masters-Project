{
 "cells": [
  {
   "cell_type": "code",
   "execution_count": 3,
   "source": [
    "import os\r\n",
    "\r\n",
    "import numpy as np\r\n",
    "import pandas as pd\r\n",
    "import csv\r\n",
    "import time\r\n",
    "from ccdc.io import CrystalReader\r\n",
    "from ccdc.crystal import PackingSimilarity\r\n",
    "\r\n",
    "start = time.time()\r\n",
    "\r\n",
    "directory = r'C:\\Users\\Clamfighter\\Machine_Learning_Project\\my_env\\Masters\\T2_5679_predicted_crystals\\T2_5679_predicted_crystals'\r\n",
    "outputDir = r'C:\\Users\\Clamfighter\\Machine_Learning_Project\\my_env\\Masters\\T2_5679_predicted_crystals\\outputMatchedMolecules.csv'\r\n",
    "PS = PackingSimilarity()\r\n",
    "\r\n",
    "i=0\r\n",
    "with open(outputDir, 'w', encoding='UTF8',newline='') as f:\r\n",
    "    writer = csv.writer(f)\r\n",
    "    for cifName in os.listdir(directory):\r\n",
    "        try:\r\n",
    "            crystal_reader = CrystalReader(directory+'\\\\'+cifName)\r\n",
    "\r\n",
    "            if i==0:\r\n",
    "                leftCrystalName = cifName[:-4]\r\n",
    "                leftCrystal = crystal_reader[0]\r\n",
    "                print('Left Crystal: ',leftCrystalName)\r\n",
    "                #toWrite = ['',leftCrystalName]\r\n",
    "                writer.writerow(['',leftCrystalName])\r\n",
    "\r\n",
    "            else:\r\n",
    "                #print('Comparing ',leftCrystalName,' with ', cifName)\r\n",
    "                rightCrystal = crystal_reader[0]\r\n",
    "                comp = PS.compare(leftCrystal,rightCrystal)\r\n",
    "                rmsd = comp.rmsd\r\n",
    "                writer.writerow([cifName[:-4],rmsd,comp.nmatched_molecules])\r\n",
    "                #print(comp.nmatched_molecules)\r\n",
    "                #print('RMSD: ',rmsd)\r\n",
    "        except RuntimeError:\r\n",
    "            writer.writerow([cifName[:-4],'CIF Read Error'])\r\n",
    "        i=+1\r\n",
    "\r\n",
    "end = time.time()\r\n",
    "print('Time Taken: ', end - start,'s')"
   ],
   "outputs": [
    {
     "output_type": "stream",
     "name": "stdout",
     "text": [
      "Left Crystal:  job_00001\n",
      "Time Taken:  8051.666037321091 s\n"
     ]
    }
   ],
   "metadata": {}
  }
 ],
 "metadata": {
  "orig_nbformat": 4,
  "language_info": {
   "name": "python",
   "version": "3.7.6",
   "mimetype": "text/x-python",
   "codemirror_mode": {
    "name": "ipython",
    "version": 3
   },
   "pygments_lexer": "ipython3",
   "nbconvert_exporter": "python",
   "file_extension": ".py"
  },
  "kernelspec": {
   "name": "python3",
   "display_name": "Python 3.7.6 64-bit ('my_env': venv)"
  },
  "interpreter": {
   "hash": "cabf3273fec0e8f7911cea4cbe0d6d7dc9af377d5f14fa2ac4239c22bd50cd1b"
  }
 },
 "nbformat": 4,
 "nbformat_minor": 2
}