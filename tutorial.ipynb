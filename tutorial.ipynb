{
 "metadata": {
  "language_info": {
   "codemirror_mode": {
    "name": "ipython",
    "version": 3
   },
   "file_extension": ".py",
   "mimetype": "text/x-python",
   "name": "python",
   "nbconvert_exporter": "python",
   "pygments_lexer": "ipython3",
   "version": "3.7.6"
  },
  "orig_nbformat": 4,
  "kernelspec": {
   "name": "python376jvsc74a57bd0cabf3273fec0e8f7911cea4cbe0d6d7dc9af377d5f14fa2ac4239c22bd50cd1b",
   "display_name": "Python 3.7.6 64-bit ('my_env': venv)",
   "language": "python"
  }
 },
 "nbformat": 4,
 "nbformat_minor": 2,
 "cells": [
  {
   "source": [
    "The following creates a CifReader object which can be iterated over to get all (valid) structures in a .cif:"
   ],
   "cell_type": "markdown",
   "metadata": {}
  },
  {
   "cell_type": "code",
   "execution_count": 10,
   "metadata": {},
   "outputs": [],
   "source": [
    "import amd\n",
    "reader = amd.CifReader(r'average-minimum-distance-master\\average-minimum-distance-master\\tests\\T2_gamma.cif')"
   ]
  },
  {
   "source": [
    "This can be used in a loop, comprehension or converted to a list:"
   ],
   "cell_type": "markdown",
   "metadata": {}
  },
  {
   "cell_type": "code",
   "execution_count": 11,
   "metadata": {},
   "outputs": [
    {
     "output_type": "stream",
     "name": "stdout",
     "text": [
      "92\n"
     ]
    }
   ],
   "source": [
    "for periodic_set in reader:\n",
    "    print(periodic_set.motif.shape[0]) # prints number of motif points"
   ]
  },
  {
   "source": [
    "By default, the reader will skip structures that cannot be read and print a warning.\n",
    "\n",
    "If your .cif contains just one structure, use:"
   ],
   "cell_type": "markdown",
   "metadata": {}
  },
  {
   "cell_type": "code",
   "execution_count": 12,
   "metadata": {},
   "outputs": [],
   "source": [
    "periodic_set = list(amd.CifReader(r'average-minimum-distance-master\\average-minimum-distance-master\\tests\\T2_gamma.cif'))[0]"
   ]
  },
  {
   "source": [
    "If you have a folder with many .cifs each with one structure:"
   ],
   "cell_type": "markdown",
   "metadata": {}
  },
  {
   "cell_type": "code",
   "execution_count": 19,
   "metadata": {},
   "outputs": [
    {
     "output_type": "error",
     "ename": "SyntaxError",
     "evalue": "invalid syntax (<ipython-input-19-79df82725231>, line 4)",
     "traceback": [
      "\u001b[1;36m  File \u001b[1;32m\"<ipython-input-19-79df82725231>\"\u001b[1;36m, line \u001b[1;32m4\u001b[0m\n\u001b[1;33m    for filename  os.listdir(folder)]\u001b[0m\n\u001b[1;37m                   ^\u001b[0m\n\u001b[1;31mSyntaxError\u001b[0m\u001b[1;31m:\u001b[0m invalid syntax\n"
     ]
    }
   ],
   "source": [
    "import os\n",
    "folder = 'average-minimum-distance-master/average-minimum-distance-master/tests'\n",
    "periodic_sets = [list(amd.CifReader(os.path.join(folder, filename)))[0] \n",
    "                 for filename  os.listdir(folder)]"
   ]
  },
  {
   "source": [
    "CifReader has several optional arguments:"
   ],
   "cell_type": "markdown",
   "metadata": {}
  },
  {
   "source": [
    "reader = amd.CifReader(filename,\n",
    "                       reader='ase',\n",
    "                       remove_hydrogens=False,\n",
    "                       allow_disorder=False,\n",
    "                       dtype=np.float64,\n",
    "                       heaviest_component=False)"
   ],
   "cell_type": "markdown",
   "metadata": {}
  },
  {
   "source": [
    "Calculating AMDs and PDDs\n",
    "\n",
    "The functions amd.amd and amd.pdd are for AMD and PDD calculations respectively. They have 2 required arguments:\n",
    "\n",
    "either a PeriodicSet given by a reader or a tuple (motif, cell) of numpy arrays,\n",
    "\n",
    "an integer k > 0.\n",
    "\n",
    "The following creates a list of AMDs (with k=100) for structures in a .cif:"
   ],
   "cell_type": "markdown",
   "metadata": {}
  },
  {
   "cell_type": "code",
   "execution_count": 31,
   "metadata": {},
   "outputs": [],
   "source": [
    "import amd\n",
    "reader = amd.CifReader('average-minimum-distance-master\\average-minimum-distance-master\\tests\\T2_gamma.cif')"
   ]
  },
  {
   "cell_type": "code",
   "execution_count": 30,
   "metadata": {},
   "outputs": [
    {
     "output_type": "error",
     "ename": "AttributeError",
     "evalue": "'function' object has no attribute 'CifReader'",
     "traceback": [
      "\u001b[1;31m---------------------------------------------------------------------------\u001b[0m",
      "\u001b[1;31mAttributeError\u001b[0m                            Traceback (most recent call last)",
      "\u001b[1;32m<ipython-input-30-8ec17e8c984b>\u001b[0m in \u001b[0;36m<module>\u001b[1;34m\u001b[0m\n\u001b[0;32m      1\u001b[0m \u001b[1;32mfrom\u001b[0m \u001b[0mamd\u001b[0m \u001b[1;32mimport\u001b[0m \u001b[0mCifReader\u001b[0m\u001b[1;33m,\u001b[0m \u001b[0mamd\u001b[0m\u001b[1;33m\u001b[0m\u001b[1;33m\u001b[0m\u001b[0m\n\u001b[1;32m----> 2\u001b[1;33m \u001b[0mamds\u001b[0m \u001b[1;33m=\u001b[0m \u001b[1;33m[\u001b[0m\u001b[0mamd\u001b[0m\u001b[1;33m(\u001b[0m\u001b[0mperiodic_set\u001b[0m\u001b[1;33m,\u001b[0m \u001b[1;36m100\u001b[0m\u001b[1;33m)\u001b[0m \u001b[1;32mfor\u001b[0m \u001b[0mperiodic_set\u001b[0m \u001b[1;32min\u001b[0m \u001b[0mamd\u001b[0m\u001b[1;33m.\u001b[0m\u001b[0mCifReader\u001b[0m\u001b[1;33m(\u001b[0m\u001b[1;34m'average-minimum-distance-master\\average-minimum-distance-master\\tests\\T2_gamma.cif'\u001b[0m\u001b[1;33m)\u001b[0m\u001b[1;33m]\u001b[0m\u001b[1;33m\u001b[0m\u001b[1;33m\u001b[0m\u001b[0m\n\u001b[0m",
      "\u001b[1;31mAttributeError\u001b[0m: 'function' object has no attribute 'CifReader'"
     ]
    }
   ],
   "source": [
    "from amd import CifReader, amd\n",
    "amds = [amd(periodic_set, 100) for periodic_set in amd.CifReader('average-minimum-distance-master\\average-minimum-distance-master\\tests\\T2_gamma.cif')]"
   ]
  },
  {
   "cell_type": "code",
   "execution_count": null,
   "metadata": {},
   "outputs": [],
   "source": []
  }
 ]
}