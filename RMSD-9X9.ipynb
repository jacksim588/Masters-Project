{
 "cells": [
  {
   "cell_type": "code",
   "execution_count": 1,
   "source": [
    "from ccdc.io import CrystalReader\r\n",
    "\r\n",
    "crystal_reader = CrystalReader(r'C:\\Users\\Clamfighter\\Machine_Learning_Project\\my_env\\Masters\\T2_9_experimental_crystals\\T2_9_experimental_crystals\\DEBXIT01_1478358_T2gamma_240K.cif', format='cif')\r\n",
    "cryst0 = crystal_reader[0]\r\n",
    "crystal_reader = CrystalReader(r'C:\\Users\\Clamfighter\\Machine_Learning_Project\\my_env\\Masters\\T2_9_experimental_crystals\\T2_9_experimental_crystals\\T2epsilon.cif', format='cif')\r\n",
    "cryst1 = crystal_reader[0]"
   ],
   "outputs": [],
   "metadata": {}
  },
  {
   "cell_type": "code",
   "execution_count": 2,
   "source": [
    "from ccdc.crystal import PackingSimilarity\r\n",
    "PS = PackingSimilarity()\r\n",
    "PS.settings.packing_shell_size = 10\r\n",
    "comp = PS.compare(cryst0,cryst1)\r\n",
    "print(comp.rmsd)\r\n",
    "print(comp.nmatched_molecules)\r\n",
    "print(comp.dis)"
   ],
   "outputs": [
    {
     "output_type": "stream",
     "name": "stdout",
     "text": [
      "0.1833274334455433\n",
      "3\n"
     ]
    },
    {
     "output_type": "error",
     "ename": "AttributeError",
     "evalue": "'Comparison' object has no attribute 'dis'",
     "traceback": [
      "\u001b[1;31m---------------------------------------------------------------------------\u001b[0m",
      "\u001b[1;31mAttributeError\u001b[0m                            Traceback (most recent call last)",
      "\u001b[1;32m<ipython-input-2-ef1fa4c36ab3>\u001b[0m in \u001b[0;36m<module>\u001b[1;34m\u001b[0m\n\u001b[0;32m      5\u001b[0m \u001b[0mprint\u001b[0m\u001b[1;33m(\u001b[0m\u001b[0mcomp\u001b[0m\u001b[1;33m.\u001b[0m\u001b[0mrmsd\u001b[0m\u001b[1;33m)\u001b[0m\u001b[1;33m\u001b[0m\u001b[1;33m\u001b[0m\u001b[0m\n\u001b[0;32m      6\u001b[0m \u001b[0mprint\u001b[0m\u001b[1;33m(\u001b[0m\u001b[0mcomp\u001b[0m\u001b[1;33m.\u001b[0m\u001b[0mnmatched_molecules\u001b[0m\u001b[1;33m)\u001b[0m\u001b[1;33m\u001b[0m\u001b[1;33m\u001b[0m\u001b[0m\n\u001b[1;32m----> 7\u001b[1;33m \u001b[0mprint\u001b[0m\u001b[1;33m(\u001b[0m\u001b[0mcomp\u001b[0m\u001b[1;33m.\u001b[0m\u001b[0mdis\u001b[0m\u001b[1;33m)\u001b[0m\u001b[1;33m\u001b[0m\u001b[1;33m\u001b[0m\u001b[0m\n\u001b[0m",
      "\u001b[1;31mAttributeError\u001b[0m: 'Comparison' object has no attribute 'dis'"
     ]
    }
   ],
   "metadata": {}
  },
  {
   "cell_type": "code",
   "execution_count": 5,
   "source": [
    "import os\r\n",
    "import time\r\n",
    "'''\r\n",
    "Initial run 9x9 with duplicate comparisons: 516.1s\r\n",
    "\r\n",
    "'''\r\n",
    "directory = r'C:\\Users\\Clamfighter\\Machine_Learning_Project\\my_env\\Masters\\T2_9_experimental_crystals\\T2_9_experimental_crystals'\r\n",
    "PS = PackingSimilarity()\r\n",
    "i=0\r\n",
    "starttime = time.time()\r\n",
    "print(starttime)\r\n",
    "for outter_cif in os.listdir(directory):\r\n",
    "    #print(i)\r\n",
    "    #print(outter_cif)\r\n",
    "\r\n",
    "    crystal_reader = CrystalReader(directory+'\\\\'+outter_cif)\r\n",
    "    outter_crystal = crystal_reader[0]\r\n",
    "\r\n",
    "    for inner_cif in os.listdir(directory):\r\n",
    "        if inner_cif != outter_cif:\r\n",
    "            #print(inner_cif)\r\n",
    "\r\n",
    "            crystal_reader = CrystalReader(directory+'\\\\'+inner_cif)\r\n",
    "            inner_crystal = crystal_reader[0]\r\n",
    "            comp = PS.compare(outter_crystal,inner_crystal)\r\n",
    "            #print(comp.rmsd)\r\n",
    "        #else:\r\n",
    "            #print('match')\r\n",
    "    i+=1\r\n",
    "endtime = time.time()\r\n",
    "print(endtime)\r\n",
    "print(endtime - starttime)"
   ],
   "outputs": [
    {
     "output_type": "stream",
     "name": "stdout",
     "text": [
      "1630358690.718377\n"
     ]
    },
    {
     "output_type": "error",
     "ename": "KeyboardInterrupt",
     "evalue": "",
     "traceback": [
      "\u001b[1;31m---------------------------------------------------------------------------\u001b[0m",
      "\u001b[1;31mKeyboardInterrupt\u001b[0m                         Traceback (most recent call last)",
      "\u001b[1;32m<ipython-input-5-75809850eaa3>\u001b[0m in \u001b[0;36m<module>\u001b[1;34m\u001b[0m\n\u001b[0;32m     23\u001b[0m             \u001b[0mcrystal_reader\u001b[0m \u001b[1;33m=\u001b[0m \u001b[0mCrystalReader\u001b[0m\u001b[1;33m(\u001b[0m\u001b[0mdirectory\u001b[0m\u001b[1;33m+\u001b[0m\u001b[1;34m'\\\\'\u001b[0m\u001b[1;33m+\u001b[0m\u001b[0minner_cif\u001b[0m\u001b[1;33m)\u001b[0m\u001b[1;33m\u001b[0m\u001b[1;33m\u001b[0m\u001b[0m\n\u001b[0;32m     24\u001b[0m             \u001b[0minner_crystal\u001b[0m \u001b[1;33m=\u001b[0m \u001b[0mcrystal_reader\u001b[0m\u001b[1;33m[\u001b[0m\u001b[1;36m0\u001b[0m\u001b[1;33m]\u001b[0m\u001b[1;33m\u001b[0m\u001b[1;33m\u001b[0m\u001b[0m\n\u001b[1;32m---> 25\u001b[1;33m             \u001b[0mcomp\u001b[0m \u001b[1;33m=\u001b[0m \u001b[0mPS\u001b[0m\u001b[1;33m.\u001b[0m\u001b[0mcompare\u001b[0m\u001b[1;33m(\u001b[0m\u001b[0moutter_crystal\u001b[0m\u001b[1;33m,\u001b[0m\u001b[0minner_crystal\u001b[0m\u001b[1;33m)\u001b[0m\u001b[1;33m\u001b[0m\u001b[1;33m\u001b[0m\u001b[0m\n\u001b[0m\u001b[0;32m     26\u001b[0m             \u001b[1;31m#print(comp.rmsd)\u001b[0m\u001b[1;33m\u001b[0m\u001b[1;33m\u001b[0m\u001b[1;33m\u001b[0m\u001b[0m\n\u001b[0;32m     27\u001b[0m         \u001b[1;31m#else:\u001b[0m\u001b[1;33m\u001b[0m\u001b[1;33m\u001b[0m\u001b[1;33m\u001b[0m\u001b[0m\n",
      "\u001b[1;32mc:\\Users\\Clamfighter\\Machine_Learning_Project\\my_env\\lib\\site-packages\\ccdc\\crystal.py\u001b[0m in \u001b[0;36mcompare\u001b[1;34m(self, reference, target)\u001b[0m\n\u001b[0;32m   1281\u001b[0m         \u001b[0mself\u001b[0m\u001b[1;33m.\u001b[0m\u001b[0m_packing_similarity_search\u001b[0m\u001b[1;33m.\u001b[0m\u001b[0madd_comparison_structure\u001b[0m\u001b[1;33m(\u001b[0m\u001b[0mmsi1\u001b[0m\u001b[1;33m)\u001b[0m\u001b[1;33m\u001b[0m\u001b[1;33m\u001b[0m\u001b[0m\n\u001b[0;32m   1282\u001b[0m         \u001b[0mself\u001b[0m\u001b[1;33m.\u001b[0m\u001b[0m_packing_similarity_search\u001b[0m\u001b[1;33m.\u001b[0m\u001b[0mconstruct_pairwise_comparisons\u001b[0m\u001b[1;33m(\u001b[0m\u001b[1;33m)\u001b[0m\u001b[1;33m\u001b[0m\u001b[1;33m\u001b[0m\u001b[0m\n\u001b[1;32m-> 1283\u001b[1;33m         \u001b[0ml\u001b[0m \u001b[1;33m=\u001b[0m \u001b[0mself\u001b[0m\u001b[1;33m.\u001b[0m\u001b[0m_packing_similarity_search\u001b[0m\u001b[1;33m.\u001b[0m\u001b[0mrun_comparison\u001b[0m\u001b[1;33m(\u001b[0m\u001b[0mmsi0\u001b[0m\u001b[1;33m,\u001b[0m \u001b[0mmsi1\u001b[0m\u001b[1;33m)\u001b[0m\u001b[1;33m\u001b[0m\u001b[1;33m\u001b[0m\u001b[0m\n\u001b[0m\u001b[0;32m   1284\u001b[0m         \u001b[1;32mif\u001b[0m \u001b[0mlen\u001b[0m\u001b[1;33m(\u001b[0m\u001b[0ml\u001b[0m\u001b[1;33m)\u001b[0m \u001b[1;33m==\u001b[0m \u001b[1;36m1\u001b[0m\u001b[1;33m:\u001b[0m\u001b[1;33m\u001b[0m\u001b[1;33m\u001b[0m\u001b[0m\n\u001b[0;32m   1285\u001b[0m             \u001b[1;32mreturn\u001b[0m \u001b[0mPackingSimilarity\u001b[0m\u001b[1;33m.\u001b[0m\u001b[0mComparison\u001b[0m\u001b[1;33m(\u001b[0m\u001b[0ml\u001b[0m\u001b[1;33m[\u001b[0m\u001b[1;36m0\u001b[0m\u001b[1;33m]\u001b[0m\u001b[1;33m,\u001b[0m \u001b[0mreference\u001b[0m\u001b[1;33m,\u001b[0m \u001b[0mtarget\u001b[0m\u001b[1;33m)\u001b[0m\u001b[1;33m\u001b[0m\u001b[1;33m\u001b[0m\u001b[0m\n",
      "\u001b[1;31mKeyboardInterrupt\u001b[0m: "
     ]
    }
   ],
   "metadata": {}
  },
  {
   "cell_type": "code",
   "execution_count": 1,
   "source": [
    "import os\r\n",
    "import numpy as np\r\n",
    "import pandas as pd\r\n",
    "from ccdc.io import CrystalReader\r\n",
    "from ccdc.crystal import PackingSimilarity\r\n",
    "import time\r\n",
    "'''\r\n",
    "Initial run 9x9 with duplicate comparisons: 516.1s\r\n",
    "\r\n",
    "Run without duplicate comparison 270.4s\r\n",
    "'''\r\n",
    "directory = r'C:\\Users\\Clamfighter\\Machine_Learning_Project\\my_env\\Masters\\T2_9_experimental_crystals\\T2_9_experimental_crystals'\r\n",
    "PS = PackingSimilarity()\r\n",
    "#PS.settings.packing_shell_size = 15\r\n",
    "#PS.settings.distance_tolerance = 0.02\r\n",
    "PS.settings.angle_tolerance = 16\r\n",
    "print(PS.settings.distance_tolerance)\r\n",
    "print(PS.settings.angle_tolerance)\r\n",
    "i=0\r\n",
    "cifs = []\r\n",
    "\r\n",
    "\r\n",
    "for filename in os.listdir(directory):\r\n",
    "    cifs.append(filename)\r\n",
    "#rmsd_matrix = np.empty((len(cifs),len(cifs)))\r\n",
    "rmsd_matrix = np.empty((9,9))\r\n",
    "rmsd_matrix[:] = np.nan\r\n",
    "matchedMolecules_matrix = np.empty((len(cifs),len(cifs)))\r\n",
    "matchedMolecules_matrix[:] = np.nan\r\n",
    "cols = cifs\r\n",
    "starttime = time.time()\r\n",
    "print(starttime)\r\n",
    "for i in range(len(cifs)):\r\n",
    "    outter_cif = cifs[i]\r\n",
    "\r\n",
    "    crystal_reader = CrystalReader(directory+'\\\\'+outter_cif)\r\n",
    "    outter_crystal = crystal_reader[0]\r\n",
    "\r\n",
    "    for j in range(len(cifs)):\r\n",
    "        inner_cif = cifs[j]\r\n",
    "\r\n",
    "        if inner_cif != outter_cif and inner_cif != \"\":\r\n",
    "            crystal_reader = CrystalReader(directory+'\\\\'+inner_cif)\r\n",
    "            inner_crystal = crystal_reader[0]\r\n",
    "            comp = PS.compare(outter_crystal,inner_crystal)\r\n",
    "            rmsd = comp.rmsd\r\n",
    "            matched_molecules = comp.nmatched_molecules\r\n",
    "            rmsd_matrix[i][j] = rmsd\r\n",
    "            matchedMolecules_matrix[i][j] = matched_molecules\r\n",
    "\r\n",
    "        elif inner_cif == outter_cif:\r\n",
    "            rmsd_matrix[i][j] = 0\r\n",
    "            matchedMolecules_matrix[i][j] = 15\r\n",
    "    cifs[i] = \"\"\r\n",
    "    i+=1\r\n",
    "rmsd_df = pd.DataFrame(rmsd_matrix, columns=cols, index=cols)\r\n",
    "matchedMolecule_df = pd.DataFrame(matchedMolecules_matrix, columns=cols, index=cols)\r\n",
    "endtime = time.time()\r\n",
    "\r\n",
    "print(rmsd_df)\r\n",
    "print(matchedMolecule_df)\r\n",
    "print(endtime)\r\n",
    "print(endtime - starttime)"
   ],
   "outputs": [
    {
     "output_type": "stream",
     "name": "stdout",
     "text": [
      "0.2\n",
      "16.0\n",
      "1630366345.271531\n",
      "                                                                             \\\n",
      "  0.0  0.008312  0.003178  0.034960  0.451601  0.439513  0.186498  0.426636   \n",
      "  NaN  0.000000  0.007424  0.034131  0.452272  0.440206  0.186618  0.426416   \n",
      "  NaN       NaN  0.000000  0.033081  0.453086  0.440990  0.186980  0.427092   \n",
      "  NaN       NaN       NaN  0.000000  0.462409  0.450179  0.186841  0.427149   \n",
      "  NaN       NaN       NaN       NaN  0.000000  0.054768  0.246310  0.664421   \n",
      "  NaN       NaN       NaN       NaN       NaN  0.000000  0.239013  0.654570   \n",
      "  NaN       NaN       NaN       NaN       NaN       NaN  0.000000  0.273618   \n",
      "  NaN       NaN       NaN       NaN       NaN       NaN       NaN  0.000000   \n",
      "  NaN       NaN       NaN       NaN       NaN       NaN       NaN       NaN   \n",
      "\n",
      "            \n",
      "  0.183327  \n",
      "  0.183868  \n",
      "  0.183369  \n",
      "  0.183587  \n",
      "  0.434904  \n",
      "  0.426874  \n",
      "  0.231050  \n",
      "  0.575751  \n",
      "  0.000000  \n",
      "                                                      \n",
      "  15.0  15.0  15.0  15.0   7.0   7.0   3.0   3.0   3.0\n",
      "   NaN  15.0  15.0  15.0   7.0   7.0   3.0   3.0   3.0\n",
      "   NaN   NaN  15.0  15.0   7.0   7.0   3.0   3.0   3.0\n",
      "   NaN   NaN   NaN  15.0   7.0   7.0   3.0   3.0   3.0\n",
      "   NaN   NaN   NaN   NaN  15.0  15.0   3.0   7.0   3.0\n",
      "   NaN   NaN   NaN   NaN   NaN  15.0   3.0   7.0   3.0\n",
      "   NaN   NaN   NaN   NaN   NaN   NaN  15.0   3.0   3.0\n",
      "   NaN   NaN   NaN   NaN   NaN   NaN   NaN  15.0   5.0\n",
      "   NaN   NaN   NaN   NaN   NaN   NaN   NaN   NaN  15.0\n",
      "1630366468.48513\n",
      "123.21359896659851\n"
     ]
    }
   ],
   "metadata": {}
  },
  {
   "cell_type": "code",
   "execution_count": 31,
   "source": [
    "print(PS.settings.distance_tolerance)"
   ],
   "outputs": [
    {
     "output_type": "stream",
     "name": "stdout",
     "text": [
      "0.2\n"
     ]
    }
   ],
   "metadata": {}
  },
  {
   "cell_type": "code",
   "execution_count": 2,
   "source": [
    "cols = []\r\n",
    "for filename in os.listdir(directory):\r\n",
    "    cols.append(filename)\r\n",
    "rmsd_df.index = cols\r\n",
    "rmsd_df.columns = cols\r\n",
    "matchedMolecule_df.index = cols\r\n",
    "matchedMolecule_df.columns = cols\r\n",
    "#print(df)\r\n",
    "rmsd_df.to_csv(r\"C:\\Users\\Clamfighter\\Machine_Learning_Project\\my_env\\Masters\\T2_9_experimental_crystals\\fullComparisonOutputRMSD.csv\")\r\n",
    "matchedMolecule_df.to_csv(r\"C:\\Users\\Clamfighter\\Machine_Learning_Project\\my_env\\Masters\\T2_9_experimental_crystals\\fullComparisonOutputMatchedMolecules.csv\")"
   ],
   "outputs": [],
   "metadata": {}
  },
  {
   "cell_type": "code",
   "execution_count": 3,
   "source": [
    "import os\r\n",
    "import numpy as np\r\n",
    "import pandas as pd\r\n",
    "from ccdc.io import CrystalReader\r\n",
    "from ccdc.crystal import PackingSimilarity\r\n",
    "import time\r\n",
    "def RMSD(directory,PSS,DT,AT):\r\n",
    "    #CCDC API Packing Similarity tool\r\n",
    "    PS = PackingSimilarity()\r\n",
    "    #defining parameters\r\n",
    "    PS.settings.packing_shell_size = PSS\r\n",
    "    PS.settings.distance_tolerance = DT\r\n",
    "    PS.settings.angle_tolerance = AT\r\n",
    "    i=0\r\n",
    "    #get a list of all cifs in the directory\r\n",
    "    cifs = []\r\n",
    "    for filename in os.listdir(directory):\r\n",
    "        cifs.append(filename)\r\n",
    "    #create ouput matrices for RMSD and MM. their size depends on the number of CIFS\r\n",
    "    rmsd_matrix = np.empty((len(cifs),len(cifs)))\r\n",
    "    rmsd_matrix[:] = np.nan\r\n",
    "    matchedMolecules_matrix = np.empty((len(cifs),len(cifs)))\r\n",
    "    matchedMolecules_matrix[:] = np.nan\r\n",
    "    #CIFs list will be altered. save CIFs to column list to be used in ouput later\r\n",
    "    cols = cifs\r\n",
    "    #begin iterative process & start timer\r\n",
    "    starttime = time.time()\r\n",
    "    print(starttime)\r\n",
    "    for i in range(len(cifs)):\r\n",
    "        '''\r\n",
    "        Each CIF file is compared to all other CIF files\r\n",
    "        This is done by creating two crystal reader objects, and\r\n",
    "        comparing them with the packing shell comparison method.\r\n",
    "        The RMSD and MM from the comparison is saved in the ouput\r\n",
    "        matrices\r\n",
    "        the CIF is then deleted from the CIFs list so that no comparison\r\n",
    "        is repeated.\r\n",
    "        '''\r\n",
    "        outter_cif = cifs[i]\r\n",
    "        crystal_reader = CrystalReader(directory+'\\\\'+outter_cif)\r\n",
    "        outter_crystal = crystal_reader[0]\r\n",
    "        for j in range(len(cifs)):\r\n",
    "            inner_cif = cifs[j]\r\n",
    "\r\n",
    "            if inner_cif != outter_cif and inner_cif != \"\":\r\n",
    "                crystal_reader = CrystalReader(directory+'\\\\'+inner_cif)\r\n",
    "                inner_crystal = crystal_reader[0]\r\n",
    "                comp = PS.compare(outter_crystal,inner_crystal)#compares the two crystal objects\r\n",
    "                rmsd = comp.rmsd\r\n",
    "                matched_molecules = comp.nmatched_molecules\r\n",
    "                rmsd_matrix[i][j] = rmsd\r\n",
    "                matchedMolecules_matrix[i][j] = matched_molecules\r\n",
    "\r\n",
    "            elif inner_cif == outter_cif: #if the two CIFs are the same, skip the comparison step\r\n",
    "                rmsd_matrix[i][j] = 0\r\n",
    "                matchedMolecules_matrix[i][j] = PSS\r\n",
    "        cifs[i] = \"\"\r\n",
    "        i+=1\r\n",
    "    rmsd_df = pd.DataFrame(rmsd_matrix, columns=cols, index=cols)\r\n",
    "    matchedMolecule_df = pd.DataFrame(matchedMolecules_matrix, columns=cols, index=cols)\r\n",
    "    endtime = time.time()\r\n",
    "    #Print outputs\r\n",
    "    print(rmsd_df)\r\n",
    "    print(matchedMolecule_df)\r\n",
    "    print(endtime)\r\n",
    "    print(endtime - starttime)\r\n",
    "    rmsd_df.index = cols\r\n",
    "    rmsd_df.columns = cols\r\n",
    "    matchedMolecule_df.index = cols\r\n",
    "    matchedMolecule_df.columns = cols\r\n",
    "    #print(df)\r\n",
    "    rmsd_df.to_csv(directory+'\\output_RMSD.csv')\r\n",
    "    matchedMolecule_df.to_csv(directory+'\\output_MM.csv')\r\n",
    "directory = r'C:\\Users\\Clamfighter\\Machine_Learning_Project\\my_env\\Masters\\T2_9_experimental_crystals\\T2_9_experimental_crystals'\r\n",
    "RMSD(directory,15,20,0.2)"
   ],
   "outputs": [
    {
     "output_type": "stream",
     "name": "stderr",
     "text": [
      "<>:78: DeprecationWarning: invalid escape sequence \\o\n",
      "<>:79: DeprecationWarning: invalid escape sequence \\o\n",
      "<>:78: DeprecationWarning: invalid escape sequence \\o\n",
      "<>:79: DeprecationWarning: invalid escape sequence \\o\n",
      "<>:78: DeprecationWarning: invalid escape sequence \\o\n",
      "<>:79: DeprecationWarning: invalid escape sequence \\o\n",
      "<ipython-input-3-3afe6ae55cf9>:78: DeprecationWarning: invalid escape sequence \\o\n",
      "  rmsd_df.to_csv(directory+'\\output_RMSD.csv')\n",
      "<ipython-input-3-3afe6ae55cf9>:79: DeprecationWarning: invalid escape sequence \\o\n",
      "  matchedMolecule_df.to_csv(directory+'\\output_MM.csv')\n"
     ]
    }
   ],
   "metadata": {}
  }
 ],
 "metadata": {
  "orig_nbformat": 4,
  "language_info": {
   "name": "python",
   "version": "3.7.6",
   "mimetype": "text/x-python",
   "codemirror_mode": {
    "name": "ipython",
    "version": 3
   },
   "pygments_lexer": "ipython3",
   "nbconvert_exporter": "python",
   "file_extension": ".py"
  },
  "kernelspec": {
   "name": "python3",
   "display_name": "Python 3.7.6 64-bit ('my_env': venv)"
  },
  "interpreter": {
   "hash": "cabf3273fec0e8f7911cea4cbe0d6d7dc9af377d5f14fa2ac4239c22bd50cd1b"
  }
 },
 "nbformat": 4,
 "nbformat_minor": 2
}