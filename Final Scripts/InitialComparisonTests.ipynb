{
 "cells": [
  {
   "cell_type": "markdown",
   "source": [
    "1x1 Comparison Test:"
   ],
   "metadata": {}
  },
  {
   "cell_type": "code",
   "execution_count": 4,
   "source": [
    "from ccdc.crystal import PackingSimilarity\r\n",
    "from ccdc.io import CrystalReader\r\n",
    "crystal_reader = CrystalReader(r'C:\\Users\\Clamfighter\\Machine_Learning_Project\\my_env\\Masters\\T2_5679_predicted_crystals\\T2_5679_predicted_crystals\\job_00001.cif', format='cif')\r\n",
    "cryst0 = crystal_reader[0]\r\n",
    "crystal_reader = CrystalReader(r'C:\\Users\\Clamfighter\\Machine_Learning_Project\\my_env\\Masters\\T2_5679_predicted_crystals\\T2_5679_predicted_crystals\\job_00011.cif', format='cif')\r\n",
    "cryst1 = crystal_reader[0]\r\n",
    "PS = PackingSimilarity()\r\n",
    "comp = PS.compare(cryst0,cryst1)\r\n",
    "print(comp.rmsd)\r\n",
    "print(comp.nmatched_molecules)"
   ],
   "outputs": [
    {
     "output_type": "stream",
     "name": "stdout",
     "text": [
      "0.21640852422677578\n",
      "2\n"
     ]
    }
   ],
   "metadata": {}
  },
  {
   "cell_type": "markdown",
   "source": [
    "Experimentral Crystal Comparison"
   ],
   "metadata": {}
  },
  {
   "cell_type": "code",
   "execution_count": 5,
   "source": [
    "import os\r\n",
    "import numpy as np\r\n",
    "import pandas as pd\r\n",
    "from ccdc.io import CrystalReader\r\n",
    "from ccdc.crystal import PackingSimilarity\r\n",
    "import time\r\n",
    "'''\r\n",
    "Initial run 9x9 with duplicate comparisons: 516.1s\r\n",
    "Run without duplicate comparison 270.4s\r\n",
    "'''\r\n",
    "directory = r'T2_9_experimental_crystals'\r\n",
    "PS = PackingSimilarity()#Packing shell object with default parameters\r\n",
    "i=0\r\n",
    "cifs = [] #get name of each CIF file\r\n",
    "for filename in os.listdir(directory):\r\n",
    "    cifs.append(filename)\r\n",
    "#Prepare Output Matrices dynamically by the lenght of the file\r\n",
    "rmsd_matrix = np.empty((len(cifs),len(cifs)))\r\n",
    "rmsd_matrix[:] = np.nan\r\n",
    "matchedMolecules_matrix = np.empty((len(cifs),len(cifs)))\r\n",
    "matchedMolecules_matrix[:] = np.nan\r\n",
    "cols = cifs\r\n",
    "starttime = time.time()\r\n",
    "print(starttime)\r\n",
    "for i in range(len(cifs)):\r\n",
    "    '''\r\n",
    "    compare each CIF file to all other CIF files\r\n",
    "    do not compare the same files\r\n",
    "    once a file is compared, take it out the list so it isn't compared to other files\r\n",
    "    '''\r\n",
    "    outter_cif = cifs[i]\r\n",
    "    crystal_reader = CrystalReader(directory+'\\\\'+outter_cif)\r\n",
    "    outter_crystal = crystal_reader[0]\r\n",
    "    for j in range(len(cifs)):\r\n",
    "        inner_cif = cifs[j]\r\n",
    "        if inner_cif != outter_cif and inner_cif != \"\": #don't compare id not in list or same crystal\r\n",
    "            crystal_reader = CrystalReader(directory+'\\\\'+inner_cif)\r\n",
    "            inner_crystal = crystal_reader[0]\r\n",
    "            comp = PS.compare(outter_crystal,inner_crystal)\r\n",
    "            rmsd = comp.rmsd\r\n",
    "            matched_molecules = comp.nmatched_molecules\r\n",
    "            rmsd_matrix[i][j] = rmsd\r\n",
    "            matchedMolecules_matrix[i][j] = matched_molecules\r\n",
    "        elif inner_cif == outter_cif:#default values if same crystal\r\n",
    "            rmsd_matrix[i][j] = 0\r\n",
    "            matchedMolecules_matrix[i][j] = 15\r\n",
    "    cifs[i] = \"\"\r\n",
    "    i+=1\r\n",
    "rmsd_df = pd.DataFrame(rmsd_matrix, columns=cols, index=cols)#store values in DFs\r\n",
    "matchedMolecule_df = pd.DataFrame(matchedMolecules_matrix, columns=cols, index=cols)\r\n",
    "endtime = time.time()\r\n",
    "print(rmsd_df)\r\n",
    "print(matchedMolecule_df)\r\n",
    "print(endtime)\r\n",
    "print(endtime - starttime)\r\n",
    "cols = []#bug where cols is empty after loop so need to refill to add columns and rows names\r\n",
    "for filename in os.listdir(directory):\r\n",
    "    cols.append(filename)\r\n",
    "rmsd_df.index = cols\r\n",
    "rmsd_df.columns = cols\r\n",
    "matchedMolecule_df.index = cols\r\n",
    "matchedMolecule_df.columns = cols\r\n",
    "rmsd_df.to_csv(r\"fullComparisonOutputRMSD.csv\")\r\n",
    "matchedMolecule_df.to_csv(r\"fullComparisonOutputMatchedMolecules.csv\")"
   ],
   "outputs": [
    {
     "output_type": "stream",
     "name": "stdout",
     "text": [
      "0.2\n",
      "16.0\n",
      "1631831864.9768095\n",
      "                                                                             \\\n",
      "  0.0  0.008312  0.003178  0.034960  0.451601  0.439513  0.186498  0.426636   \n",
      "  NaN  0.000000  0.007424  0.034131  0.452272  0.440206  0.186618  0.426416   \n",
      "  NaN       NaN  0.000000  0.033081  0.453086  0.440990  0.186980  0.427092   \n",
      "  NaN       NaN       NaN  0.000000  0.462409  0.450179  0.186841  0.427149   \n",
      "  NaN       NaN       NaN       NaN  0.000000  0.054768  0.246310  0.664421   \n",
      "  NaN       NaN       NaN       NaN       NaN  0.000000  0.239013  0.654570   \n",
      "  NaN       NaN       NaN       NaN       NaN       NaN  0.000000  0.273618   \n",
      "  NaN       NaN       NaN       NaN       NaN       NaN       NaN  0.000000   \n",
      "  NaN       NaN       NaN       NaN       NaN       NaN       NaN       NaN   \n",
      "\n",
      "            \n",
      "  0.183327  \n",
      "  0.183868  \n",
      "  0.183369  \n",
      "  0.183587  \n",
      "  0.434904  \n",
      "  0.426874  \n",
      "  0.231050  \n",
      "  0.575751  \n",
      "  0.000000  \n",
      "                                                      \n",
      "  15.0  15.0  15.0  15.0   7.0   7.0   3.0   3.0   3.0\n",
      "   NaN  15.0  15.0  15.0   7.0   7.0   3.0   3.0   3.0\n",
      "   NaN   NaN  15.0  15.0   7.0   7.0   3.0   3.0   3.0\n",
      "   NaN   NaN   NaN  15.0   7.0   7.0   3.0   3.0   3.0\n",
      "   NaN   NaN   NaN   NaN  15.0  15.0   3.0   7.0   3.0\n",
      "   NaN   NaN   NaN   NaN   NaN  15.0   3.0   7.0   3.0\n",
      "   NaN   NaN   NaN   NaN   NaN   NaN  15.0   3.0   3.0\n",
      "   NaN   NaN   NaN   NaN   NaN   NaN   NaN  15.0   5.0\n",
      "   NaN   NaN   NaN   NaN   NaN   NaN   NaN   NaN  15.0\n",
      "1631831984.3231056\n",
      "119.34629607200623\n"
     ]
    }
   ],
   "metadata": {}
  },
  {
   "cell_type": "markdown",
   "source": [
    "Comparing Experimental and Predicted Crystals"
   ],
   "metadata": {}
  },
  {
   "cell_type": "code",
   "execution_count": 17,
   "source": [
    "import os\r\n",
    "import numpy as np\r\n",
    "import pandas as pd\r\n",
    "from ccdc.io import CrystalReader\r\n",
    "from ccdc.crystal import PackingSimilarity\r\n",
    "\r\n",
    "outterdirectory = r'T2_5679_predicted_crystals'\r\n",
    "innerdirectory = r'T2_9_experimental_crystals'\r\n",
    "PS = PackingSimilarity()\r\n",
    "i=0\r\n",
    "outtercifs = []\r\n",
    "innercifs = []\r\n",
    "#define two lists of CIFS\r\n",
    "for filename in os.listdir(outterdirectory):\r\n",
    "    outtercifs.append(filename)\r\n",
    "for filename in os.listdir(innerdirectory):\r\n",
    "    innercifs.append(filename)\r\n",
    "#Define matrices dynamically by number of files in directories\r\n",
    "rmsd_matrix = np.empty((len(outtercifs),len(innercifs)))\r\n",
    "rmsd_matrix[:] = np.nan\r\n",
    "matchedMolecules_matrix = np.empty((len(outtercifs),len(innercifs)))\r\n",
    "matchedMolecules_matrix[:] = np.nan\r\n",
    "rows = outtercifs\r\n",
    "cols = innercifs\r\n",
    "for i in range(len(outtercifs)):#for each outter CIF\r\n",
    "    outter_cif = outtercifs[i]\r\n",
    "    crystal_reader = CrystalReader(outterdirectory+'\\\\'+outter_cif)#create crystal object\r\n",
    "    outter_crystal = crystal_reader[0]\r\n",
    "    for j in range(len(innercifs)):#for each outter CIF and Inner CIF pair\r\n",
    "        inner_cif = innercifs[j]\r\n",
    "        try:\r\n",
    "            if inner_cif != outter_cif and inner_cif != \"\":\r\n",
    "                crystal_reader = CrystalReader(innerdirectory+'\\\\'+inner_cif)#create crystal object\r\n",
    "                inner_crystal = crystal_reader[0]\r\n",
    "                comp = PS.compare(outter_crystal,inner_crystal)#compare the two crystals\r\n",
    "                rmsd = comp.rmsd#RMSD\r\n",
    "                matched_molecules = comp.nmatched_molecules#MM\r\n",
    "                rmsd_matrix[i][j] = rmsd#Save to matrix\r\n",
    "                matchedMolecules_matrix[i][j] = matched_molecules#Save to matrix\r\n",
    "            elif inner_cif == outter_cif:#If they're the same CIF, use default values, don't compare\r\n",
    "                rmsd_matrix[i][j] = 0\r\n",
    "                matchedMolecules_matrix[i][j] = 15\r\n",
    "        except RuntimeError:#some CIF files have data errors\r\n",
    "            rmsd_matrix[i][j] = None\r\n",
    "            matchedMolecules_matrix[i][j] = None\r\n",
    "    outtercifs[i] = \"\"\r\n",
    "    i+=1\r\n",
    "#create dataframes from matrices that will be saved to file\r\n",
    "rows=[]#bug where rows does not persist past loop\r\n",
    "for filename in os.listdir(outterdirectory):\r\n",
    "    rows.append(filename)\r\n",
    "rmsd_df = pd.DataFrame(rmsd_matrix, columns=cols, index=rows)\r\n",
    "matchedMolecule_df = pd.DataFrame(matchedMolecules_matrix, columns=cols, index=rows)\r\n",
    "print(rmsd_df)\r\n",
    "print(matchedMolecule_df)\r\n",
    "rmsd_df.to_csv(r\"OutputRMSD.csv\")\r\n",
    "matchedMolecule_df.to_csv(r\"OutputMatchedMolecules.csv\")"
   ],
   "outputs": [
    {
     "output_type": "stream",
     "name": "stdout",
     "text": [
      "                                  job_00001.cif  job_00011.cif\n",
      "DEBXIT04_1478364_T2gamma.cif           0.176380       0.125317\n",
      "DEBXIT05_1520228_T2beta_240K.cif       0.432749       0.408948\n",
      "DEBXIT06_1520229_T2beta_293K.cif       0.424928       0.401201\n",
      "job_00001.cif                          0.000000       0.216409\n",
      "NAVXUG_1478356_T2alpha.cif             0.227971       1.105594\n",
      "SEMDIA_1520227_T2delta_240K.cif        0.597740       0.478748\n",
      "T2epsilon.cif                          0.127940       0.266690\n",
      "                                  job_00001.cif  job_00011.cif\n",
      "DEBXIT04_1478364_T2gamma.cif                3.0            2.0\n",
      "DEBXIT05_1520228_T2beta_240K.cif            3.0            2.0\n",
      "DEBXIT06_1520229_T2beta_293K.cif            3.0            2.0\n",
      "job_00001.cif                              15.0            2.0\n",
      "NAVXUG_1478356_T2alpha.cif                  3.0            2.0\n",
      "SEMDIA_1520227_T2delta_240K.cif             5.0            2.0\n",
      "T2epsilon.cif                              15.0            2.0\n"
     ]
    }
   ],
   "metadata": {}
  }
 ],
 "metadata": {
  "orig_nbformat": 4,
  "language_info": {
   "name": "python",
   "version": "3.7.6",
   "mimetype": "text/x-python",
   "codemirror_mode": {
    "name": "ipython",
    "version": 3
   },
   "pygments_lexer": "ipython3",
   "nbconvert_exporter": "python",
   "file_extension": ".py"
  },
  "kernelspec": {
   "name": "python3",
   "display_name": "Python 3.7.6 64-bit ('my_env': venv)"
  },
  "interpreter": {
   "hash": "cabf3273fec0e8f7911cea4cbe0d6d7dc9af377d5f14fa2ac4239c22bd50cd1b"
  }
 },
 "nbformat": 4,
 "nbformat_minor": 2
}