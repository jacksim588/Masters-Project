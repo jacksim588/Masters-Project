{
 "cells": [
  {
   "cell_type": "code",
   "execution_count": 2,
   "source": [
    "import csv\r\n",
    "import pandas as pd\r\n",
    "import numpy as np\r\n",
    "import matplotlib.pyplot as plt"
   ],
   "outputs": [],
   "metadata": {}
  },
  {
   "cell_type": "code",
   "execution_count": 3,
   "source": [
    "def CountFrequency(my_list):\r\n",
    " \r\n",
    "    # Creating an empty dictionary\r\n",
    "    freq = {}\r\n",
    "    for item in my_list:\r\n",
    "        if (item in freq):\r\n",
    "            freq[item] += 1\r\n",
    "        else:\r\n",
    "            freq[item] = 1\r\n",
    "    return freq"
   ],
   "outputs": [],
   "metadata": {}
  },
  {
   "cell_type": "code",
   "execution_count": 4,
   "source": [
    "def get_Hist(directory):\r\n",
    "    df = pd.read_csv(directory)\r\n",
    "    df = df.drop(df.columns[0], axis=1)\r\n",
    "    for i in range(len(df.columns)):\r\n",
    "        df.loc[i][i] = 'NaN'\r\n",
    "\r\n",
    "    values = df.stack().tolist()\r\n",
    "    df_freq = pd.DataFrame(CountFrequency(values).items())\r\n",
    "    df_freq.columns = ['Number of Matched Molecules','Frequency']\r\n",
    "    df_freq = df_freq.sort_values(by=['Number of Matched Molecules'])\r\n",
    "    print(df_freq)\r\n",
    "    df_freq['Number of Matched Molecules'] = df_freq['Number of Matched Molecules'].astype(int)\r\n",
    "    df_freq.plot(x='Number of Matched Molecules',y='Frequency',kind='bar')\r\n",
    "    return plt\r\n",
    "\r\n"
   ],
   "outputs": [],
   "metadata": {}
  },
  {
   "cell_type": "code",
   "execution_count": 8,
   "source": [
    "from textwrap import wrap\r\n",
    "directory = r'C:\\Users\\Clamfighter\\Machine_Learning_Project\\my_env\\Masters\\Output\\JS_CrystalComparisonMatchedMolecules.csv'\r\n",
    "plt = get_Hist(directory)\r\n",
    "title=('Frequency of Number of Matched Molecules between Experimental Crystals')\r\n",
    "plt.title('\\n'.join(wrap(title,60)))\r\n",
    "plt.savefig(r'C:\\Users\\Clamfighter\\Machine_Learning_Project\\my_env\\Masters\\Output\\Visualisations\\JS_CrystalComparisonMatchedMolecules_Frequency.png')\r\n",
    "plt.show()"
   ],
   "outputs": [
    {
     "output_type": "stream",
     "name": "stdout",
     "text": [
      "   Number of Matched Molecules  Frequency\n",
      "3                          3.0         13\n",
      "4                          5.0          2\n",
      "1                          7.0         10\n",
      "2                          9.0          4\n",
      "0                         15.0          7\n"
     ]
    },
    {
     "output_type": "display_data",
     "data": {
      "image/png": "[encoded data removed]",
      "text/plain": [
       "<Figure size 432x288 with 1 Axes>"
      ]
     },
     "metadata": {
      "needs_background": "light"
     }
    }
   ],
   "metadata": {}
  }
 ],
 "metadata": {
  "orig_nbformat": 4,
  "language_info": {
   "name": "python",
   "version": "3.7.6",
   "mimetype": "text/x-python",
   "codemirror_mode": {
    "name": "ipython",
    "version": 3
   },
   "pygments_lexer": "ipython3",
   "nbconvert_exporter": "python",
   "file_extension": ".py"
  },
  "kernelspec": {
   "name": "python3",
   "display_name": "Python 3.7.6 64-bit ('my_env': venv)"
  },
  "interpreter": {
   "hash": "cabf3273fec0e8f7911cea4cbe0d6d7dc9af377d5f14fa2ac4239c22bd50cd1b"
  }
 },
 "nbformat": 4,
 "nbformat_minor": 2
}