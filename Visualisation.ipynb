{
 "cells": [
  {
   "cell_type": "code",
   "execution_count": 1,
   "source": [
    "import csv\r\n",
    "import pandas as pd\r\n",
    "import numpy as np\r\n",
    "import matplotlib.pyplot as plt"
   ],
   "outputs": [],
   "metadata": {}
  },
  {
   "cell_type": "code",
   "execution_count": 46,
   "source": [
    "directory = r'C:\\Users\\Clamfighter\\Machine_Learning_Project\\my_env\\Masters\\Output\\JS_CrystalComparisonMatchedMolecules.csv'\r\n",
    "df = pd.read_csv(directory)\r\n",
    "df = df.drop(df.columns[0], axis=1)\r\n",
    "for i in range(len(df.columns)):\r\n",
    "    df.loc[i][i] = 'NaN'\r\n",
    "\r\n",
    "values = df.stack().tolist()\r\n",
    "plt.hist(values,bins=15)\r\n",
    "plt.show()\r\n"
   ],
   "outputs": [],
   "metadata": {}
  },
  {
   "cell_type": "code",
   "execution_count": 71,
   "source": [
    "\r\n",
    "def CountFrequency(my_list):\r\n",
    " \r\n",
    "    # Creating an empty dictionary\r\n",
    "    freq = {}\r\n",
    "    for item in my_list:\r\n",
    "        if (item in freq):\r\n",
    "            freq[item] += 1\r\n",
    "        else:\r\n",
    "            freq[item] = 1\r\n",
    "    for key, value in freq.items():\r\n",
    "        print (\"% d : % d\"%(key, value))\r\n",
    "    return freq\r\n",
    "\r\n",
    "df_freq = pd.DataFrame(CountFrequency(values).items())\r\n",
    "df_freq"
   ],
   "outputs": [
    {
     "output_type": "stream",
     "name": "stdout",
     "text": [
      " 15 :  7\n",
      " 7 :  10\n",
      " 9 :  4\n",
      " 3 :  13\n",
      " 5 :  2\n",
      " 15 :  7\n",
      " 7 :  10\n",
      " 9 :  4\n",
      " 3 :  13\n",
      " 5 :  2\n"
     ]
    },
    {
     "output_type": "execute_result",
     "data": {
      "text/plain": [
       "      0   1\n",
       "0  15.0   7\n",
       "1   7.0  10\n",
       "2   9.0   4\n",
       "3   3.0  13\n",
       "4   5.0   2"
      ],
      "text/html": [
       "<div>\n",
       "<style scoped>\n",
       "    .dataframe tbody tr th:only-of-type {\n",
       "        vertical-align: middle;\n",
       "    }\n",
       "\n",
       "    .dataframe tbody tr th {\n",
       "        vertical-align: top;\n",
       "    }\n",
       "\n",
       "    .dataframe thead th {\n",
       "        text-align: right;\n",
       "    }\n",
       "</style>\n",
       "<table border=\"1\" class=\"dataframe\">\n",
       "  <thead>\n",
       "    <tr style=\"text-align: right;\">\n",
       "      <th></th>\n",
       "      <th>0</th>\n",
       "      <th>1</th>\n",
       "    </tr>\n",
       "  </thead>\n",
       "  <tbody>\n",
       "    <tr>\n",
       "      <th>0</th>\n",
       "      <td>15.0</td>\n",
       "      <td>7</td>\n",
       "    </tr>\n",
       "    <tr>\n",
       "      <th>1</th>\n",
       "      <td>7.0</td>\n",
       "      <td>10</td>\n",
       "    </tr>\n",
       "    <tr>\n",
       "      <th>2</th>\n",
       "      <td>9.0</td>\n",
       "      <td>4</td>\n",
       "    </tr>\n",
       "    <tr>\n",
       "      <th>3</th>\n",
       "      <td>3.0</td>\n",
       "      <td>13</td>\n",
       "    </tr>\n",
       "    <tr>\n",
       "      <th>4</th>\n",
       "      <td>5.0</td>\n",
       "      <td>2</td>\n",
       "    </tr>\n",
       "  </tbody>\n",
       "</table>\n",
       "</div>"
      ]
     },
     "metadata": {},
     "execution_count": 71
    }
   ],
   "metadata": {}
  }
 ],
 "metadata": {
  "orig_nbformat": 4,
  "language_info": {
   "name": "python",
   "version": "3.7.6",
   "mimetype": "text/x-python",
   "codemirror_mode": {
    "name": "ipython",
    "version": 3
   },
   "pygments_lexer": "ipython3",
   "nbconvert_exporter": "python",
   "file_extension": ".py"
  },
  "kernelspec": {
   "name": "python3",
   "display_name": "Python 3.7.6 64-bit ('my_env': venv)"
  },
  "interpreter": {
   "hash": "cabf3273fec0e8f7911cea4cbe0d6d7dc9af377d5f14fa2ac4239c22bd50cd1b"
  }
 },
 "nbformat": 4,
 "nbformat_minor": 2
}