{
 "cells": [
  {
   "cell_type": "code",
   "execution_count": 2,
   "source": [
    "#import os\r\n",
    "import numpy as np\r\n",
    "import pandas as pd\r\n",
    "from ccdc.io import CrystalReader\r\n",
    "from ccdc.crystal import PackingSimilarity\r\n",
    "import time\r\n",
    "\r\n",
    "def calc_RMSD(directory,**kwargs):\r\n",
    "    #CCDC API Packing Similarity tool\r\n",
    "    print('RMSD Calculation Started')\r\n",
    "    PS = PackingSimilarity()\r\n",
    "    print('Packing Similarity Object Created')\r\n",
    "    #defining parameters from input (or use default values)\r\n",
    "    PSS = kwargs.get('PSS',20)\r\n",
    "    DT = kwargs.get('DT',0.2)\r\n",
    "    AT = kwargs.get('AT',20)\r\n",
    "    PS.settings.packing_shell_size = PSS\r\n",
    "    PS.settings.distance_tolerance = DT\r\n",
    "    PS.settings.angle_tolerance = AT\r\n",
    "    i=0\r\n",
    "    print('Parameters Updated:')\r\n",
    "    print('Packing Shell Size: ',PSS)\r\n",
    "    print('Distance Tolerance: ',DT)\r\n",
    "    print('Angle Tolerance: ',AT)\r\n",
    "    #get a list of all cifs in the directory\r\n",
    "    cifs = []\r\n",
    "    for filename in os.listdir(directory):\r\n",
    "        cifs.append(filename)\r\n",
    "    #create output matrices for RMSD and MM. their size depends on the number of CIFS\r\n",
    "    rmsd_matrix = np.empty((len(cifs),len(cifs)))\r\n",
    "    rmsd_matrix[:] = np.nan\r\n",
    "    matchedMolecules_matrix = np.empty((len(cifs),len(cifs)))\r\n",
    "    matchedMolecules_matrix[:] = np.nan\r\n",
    "    #CIFs list will be altered. save CIFs to column list to be used in ouput later\r\n",
    "    cols = cifs\r\n",
    "    #begin iterative process & start timer\r\n",
    "    print('Starting Comparisons')\r\n",
    "    starttime = time.time()\r\n",
    "    print('Start Time',starttime)\r\n",
    "    for i in range(len(cifs)):\r\n",
    "        '''\r\n",
    "        Each CIF file is compared to all other CIF files\r\n",
    "        First crystal in each CIF file is used\r\n",
    "        This is done by creating two crystal reader objects, and\r\n",
    "        comparing them with the packing shell comparison method.\r\n",
    "        The RMSD and MM from the comparison is saved in the ouput\r\n",
    "        matrices\r\n",
    "        the CIF is then deleted from the CIFs list so that no comparison\r\n",
    "        is repeated.\r\n",
    "        '''\r\n",
    "        outter_cif = cifs[i]\r\n",
    "        crystal_reader = CrystalReader(directory+'\\\\'+outter_cif)\r\n",
    "        outter_crystal = crystal_reader[0]\r\n",
    "        for j in range(len(cifs)):\r\n",
    "            inner_cif = cifs[j]\r\n",
    "            if inner_cif != outter_cif and inner_cif != \"\":\r\n",
    "                crystal_reader = CrystalReader(directory+'\\\\'+inner_cif)\r\n",
    "                inner_crystal = crystal_reader[0]\r\n",
    "                comp = PS.compare(outter_crystal,inner_crystal)#compares the two crystal objects\r\n",
    "                rmsd = comp.rmsd\r\n",
    "                matched_molecules = comp.nmatched_molecules\r\n",
    "                rmsd_matrix[i][j] = rmsd\r\n",
    "                matchedMolecules_matrix[i][j] = matched_molecules\r\n",
    "            elif inner_cif == outter_cif: #if the two CIFs are the same, skip the comparison step\r\n",
    "                rmsd_matrix[i][j] = 0\r\n",
    "                matchedMolecules_matrix[i][j] = PSS#default MM value\r\n",
    "        cifs[i] = \"\"\r\n",
    "        i+=1\r\n",
    "    endtime = time.time()\r\n",
    "    #Print outputs\r\n",
    "    print('End Time: ',endtime)\r\n",
    "    print('Taken: ',endtime - starttime,'s')\r\n",
    "    rmsd_df = pd.DataFrame(rmsd_matrix)\r\n",
    "    matchedMolecule_df = pd.DataFrame(matchedMolecules_matrix)\r\n",
    "    cols=[]#bug where cols values don't persist after loop\r\n",
    "    for filename in os.listdir(directory):\r\n",
    "        cols.append(filename)\r\n",
    "    rmsd_df.index = cols\r\n",
    "    rmsd_df.columns = cols\r\n",
    "    matchedMolecule_df.index = cols\r\n",
    "    matchedMolecule_df.columns = cols\r\n",
    "    rmsd_df.to_csv(directory+r'\\00_output_RMSD.csv')\r\n",
    "    matchedMolecule_df.to_csv(directory+r'\\00_output_MM.csv')\r\n",
    "    print('Saved to File')\r\n",
    "    print('==== COMPLETE ====')\r\n"
   ],
   "outputs": [],
   "metadata": {}
  },
  {
   "cell_type": "code",
   "execution_count": 3,
   "source": [
    "calc_RMSD(r'Masters\\Demonstration Crystals',PSS=15,DT=0.2,AT=20)"
   ],
   "outputs": [
    {
     "output_type": "stream",
     "name": "stdout",
     "text": [
      "RMSD Calculation Started\n",
      "Packing Similarity Object Created\n",
      "Parameters Updated:\n",
      "Packing Shell Size:  15\n",
      "Distance Tolerance:  0.2\n",
      "Angle Tolerance:  20\n",
      "Starting Comparisons\n",
      "Start Time 1631894246.3648229\n",
      "End Time:  1631894489.2821727\n",
      "Taken:  242.91734981536865 s\n",
      "Saved to File\n",
      "==== COMPLETE ====\n"
     ]
    }
   ],
   "metadata": {}
  }
 ],
 "metadata": {
  "orig_nbformat": 4,
  "language_info": {
   "name": "python",
   "version": "3.7.6",
   "mimetype": "text/x-python",
   "codemirror_mode": {
    "name": "ipython",
    "version": 3
   },
   "pygments_lexer": "ipython3",
   "nbconvert_exporter": "python",
   "file_extension": ".py"
  },
  "kernelspec": {
   "name": "python3",
   "display_name": "Python 3.7.6 64-bit ('my_env': venv)"
  },
  "interpreter": {
   "hash": "cabf3273fec0e8f7911cea4cbe0d6d7dc9af377d5f14fa2ac4239c22bd50cd1b"
  }
 },
 "nbformat": 4,
 "nbformat_minor": 2
}