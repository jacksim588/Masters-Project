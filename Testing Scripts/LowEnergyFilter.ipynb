{
 "cells": [
  {
   "cell_type": "code",
   "execution_count": 14,
   "source": [
    "import os\r\n",
    "import numpy as np\r\n",
    "import pandas as pd\r\n",
    "from ccdc.io import CrystalReader\r\n",
    "from ccdc.crystal import PackingSimilarity"
   ],
   "outputs": [],
   "metadata": {}
  },
  {
   "cell_type": "code",
   "execution_count": 15,
   "source": [
    "directory = r'C:\\Users\\Clamfighter\\Machine_Learning_Project\\my_env\\Masters\\T2_5679_predicted_crystals\\T2_5679_predicted_crystals'\r\n",
    "cifs=[]\r\n",
    "for filename in os.listdir(directory):\r\n",
    "    cifs.append(filename)\r\n",
    "print(len(cifs))"
   ],
   "outputs": [
    {
     "output_type": "stream",
     "name": "stdout",
     "text": [
      "4692\n"
     ]
    }
   ],
   "metadata": {}
  },
  {
   "cell_type": "code",
   "execution_count": 18,
   "source": [
    "from ccdc.descriptors import CrystalDescriptors\r\n",
    "\r\n",
    "crystal_reader = CrystalReader(r'C:\\Users\\Clamfighter\\Machine_Learning_Project\\my_env\\Masters\\T2_9_experimental_crystals\\T2_9_experimental_crystals\\DEBXIT01_1478358_T2gamma_240K.cif')\r\n",
    "print(crystal_reader[0])\r\n",
    "descriptor = CrystalDescriptors.HBondPropensities\r\n",
    "descriptor.calculate_propensities(crystal_reader)"
   ],
   "outputs": [
    {
     "output_type": "stream",
     "name": "stdout",
     "text": [
      "<ccdc.crystal.Crystal object at 0x00000231E5CC5A08>\n"
     ]
    },
    {
     "output_type": "error",
     "ename": "AttributeError",
     "evalue": "'CrystalReader' object has no attribute '_target'",
     "traceback": [
      "\u001b[1;31m---------------------------------------------------------------------------\u001b[0m",
      "\u001b[1;31mAttributeError\u001b[0m                            Traceback (most recent call last)",
      "\u001b[1;32m<ipython-input-18-ff517568e932>\u001b[0m in \u001b[0;36m<module>\u001b[1;34m\u001b[0m\n\u001b[0;32m      4\u001b[0m \u001b[0mprint\u001b[0m\u001b[1;33m(\u001b[0m\u001b[0mcrystal_reader\u001b[0m\u001b[1;33m[\u001b[0m\u001b[1;36m0\u001b[0m\u001b[1;33m]\u001b[0m\u001b[1;33m)\u001b[0m\u001b[1;33m\u001b[0m\u001b[1;33m\u001b[0m\u001b[0m\n\u001b[0;32m      5\u001b[0m \u001b[0mdescriptor\u001b[0m \u001b[1;33m=\u001b[0m \u001b[0mCrystalDescriptors\u001b[0m\u001b[1;33m.\u001b[0m\u001b[0mHBondPropensities\u001b[0m\u001b[1;33m\u001b[0m\u001b[1;33m\u001b[0m\u001b[0m\n\u001b[1;32m----> 6\u001b[1;33m \u001b[0mdescriptor\u001b[0m\u001b[1;33m.\u001b[0m\u001b[0mcalculate_propensities\u001b[0m\u001b[1;33m(\u001b[0m\u001b[0mcrystal_reader\u001b[0m\u001b[1;33m)\u001b[0m\u001b[1;33m\u001b[0m\u001b[1;33m\u001b[0m\u001b[0m\n\u001b[0m",
      "\u001b[1;32mc:\\Users\\Clamfighter\\Machine_Learning_Project\\my_env\\lib\\site-packages\\ccdc\\descriptors.py\u001b[0m in \u001b[0;36mcalculate_propensities\u001b[1;34m(self, crystal)\u001b[0m\n\u001b[0;32m   2801\u001b[0m             '''\n\u001b[0;32m   2802\u001b[0m             \u001b[1;32mif\u001b[0m \u001b[0mcrystal\u001b[0m \u001b[1;32mis\u001b[0m \u001b[1;32mNone\u001b[0m\u001b[1;33m:\u001b[0m\u001b[1;33m\u001b[0m\u001b[1;33m\u001b[0m\u001b[0m\n\u001b[1;32m-> 2803\u001b[1;33m                 \u001b[0m_target\u001b[0m \u001b[1;33m=\u001b[0m \u001b[0mself\u001b[0m\u001b[1;33m.\u001b[0m\u001b[0m_target\u001b[0m\u001b[1;33m\u001b[0m\u001b[1;33m\u001b[0m\u001b[0m\n\u001b[0m\u001b[0;32m   2804\u001b[0m             \u001b[1;32melse\u001b[0m\u001b[1;33m:\u001b[0m\u001b[1;33m\u001b[0m\u001b[1;33m\u001b[0m\u001b[0m\n\u001b[0;32m   2805\u001b[0m                 \u001b[0m_csv\u001b[0m \u001b[1;33m=\u001b[0m \u001b[0mChemistryLib\u001b[0m\u001b[1;33m.\u001b[0m\u001b[0mCrystalStructureView_instantiate\u001b[0m\u001b[1;33m(\u001b[0m\u001b[0mcrystal\u001b[0m\u001b[1;33m.\u001b[0m\u001b[0m_crystal\u001b[0m\u001b[1;33m)\u001b[0m\u001b[1;33m\u001b[0m\u001b[1;33m\u001b[0m\u001b[0m\n",
      "\u001b[1;31mAttributeError\u001b[0m: 'CrystalReader' object has no attribute '_target'"
     ]
    }
   ],
   "metadata": {}
  }
 ],
 "metadata": {
  "orig_nbformat": 4,
  "language_info": {
   "name": "python",
   "version": "3.7.6",
   "mimetype": "text/x-python",
   "codemirror_mode": {
    "name": "ipython",
    "version": 3
   },
   "pygments_lexer": "ipython3",
   "nbconvert_exporter": "python",
   "file_extension": ".py"
  },
  "kernelspec": {
   "name": "python3",
   "display_name": "Python 3.7.6 64-bit ('my_env': venv)"
  },
  "interpreter": {
   "hash": "cabf3273fec0e8f7911cea4cbe0d6d7dc9af377d5f14fa2ac4239c22bd50cd1b"
  }
 },
 "nbformat": 4,
 "nbformat_minor": 2
}