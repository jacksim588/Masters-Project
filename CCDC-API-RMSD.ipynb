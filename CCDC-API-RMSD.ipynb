{
 "metadata": {
  "language_info": {
   "codemirror_mode": {
    "name": "ipython",
    "version": 3
   },
   "file_extension": ".py",
   "mimetype": "text/x-python",
   "name": "python",
   "nbconvert_exporter": "python",
   "pygments_lexer": "ipython3",
   "version": "3.7.6"
  },
  "orig_nbformat": 4,
  "kernelspec": {
   "name": "python3",
   "display_name": "Python 3.7.6 64-bit ('my_env': venv)"
  },
  "interpreter": {
   "hash": "cabf3273fec0e8f7911cea4cbe0d6d7dc9af377d5f14fa2ac4239c22bd50cd1b"
  }
 },
 "nbformat": 4,
 "nbformat_minor": 2,
 "cells": [
  {
   "cell_type": "code",
   "execution_count": 1,
   "metadata": {},
   "outputs": [],
   "source": [
    "import amd\n",
    "reader = amd.CifReader(r'C:\\Users\\Clamfighter\\Machine_Learning_Project\\my_env\\Masters\\T2_5679_predicted_crystals\\T2_5679_predicted_crystals\\job_00001.cif')"
   ]
  },
  {
   "cell_type": "code",
   "execution_count": 3,
   "metadata": {},
   "outputs": [
    {
     "output_type": "stream",
     "name": "stdout",
     "text": [
      "92\n"
     ]
    }
   ],
   "source": [
    "for periodic_set in reader:\n",
    "    print(periodic_set.motif.shape[0]) # prints number of motif points"
   ]
  },
  {
   "cell_type": "code",
   "execution_count": 1,
   "metadata": {},
   "outputs": [],
   "source": [
    "import ccdc\n",
    "from ccdc.conformer import ConformerHit\n",
    "import ccdc.crystal"
   ]
  },
  {
   "cell_type": "code",
   "execution_count": 2,
   "metadata": {},
   "outputs": [
    {
     "output_type": "execute_result",
     "data": {
      "text/plain": [
       "769.978"
      ]
     },
     "metadata": {},
     "execution_count": 2
    }
   ],
   "source": [
    "from ccdc.io import CrystalReader\n",
    "csd_crystal_reader = CrystalReader('CSD')\n",
    "first_csd_crystal = csd_crystal_reader[0]\n",
    "round(first_csd_crystal.cell_volume, 3)"
   ]
  },
  {
   "cell_type": "code",
   "execution_count": 3,
   "metadata": {},
   "outputs": [
    {
     "output_type": "stream",
     "name": "stdout",
     "text": [
      "AABHTZ\n"
     ]
    }
   ],
   "source": [
    "mol = first_csd_crystal.molecule\n",
    "print(mol.identifier)"
   ]
  },
  {
   "cell_type": "code",
   "execution_count": 4,
   "metadata": {},
   "outputs": [
    {
     "output_type": "stream",
     "name": "stdout",
     "text": [
      "AACMAL\n"
     ]
    },
    {
     "output_type": "execute_result",
     "data": {
      "text/plain": [
       "1461.105"
      ]
     },
     "metadata": {},
     "execution_count": 4
    }
   ],
   "source": [
    "csd_crystal_reader = CrystalReader('CSD')\n",
    "first_csd_crystal = csd_crystal_reader[5]\n",
    "mol2 = first_csd_crystal.molecule\n",
    "print(mol2.identifier)\n",
    "round(first_csd_crystal.cell_volume, 3)"
   ]
  },
  {
   "cell_type": "code",
   "execution_count": 5,
   "metadata": {},
   "outputs": [
    {
     "output_type": "stream",
     "name": "stderr",
     "text": [
      "WARNING conformer.py:557 Conformers not generated for discontiguous molecules.\n"
     ]
    }
   ],
   "source": [
    "from ccdc.conformer import ConformerGenerator\n",
    "conformer = ConformerGenerator()\n",
    "chl1 =conformer.generate(mol)\n",
    "conformer2 = ConformerGenerator()\n",
    "chl2 = conformer2.generate(mol2)"
   ]
  },
  {
   "cell_type": "code",
   "execution_count": 6,
   "metadata": {},
   "outputs": [
    {
     "output_type": "error",
     "ename": "RuntimeError",
     "evalue": "Cannot overlay unmatched molecules that do not forma single connected unit. MoleculeOverlay::find_matches",
     "traceback": [
      "\u001b[1;31m---------------------------------------------------------------------------\u001b[0m",
      "\u001b[1;31mRuntimeError\u001b[0m                              Traceback (most recent call last)",
      "\u001b[1;32m<ipython-input-6-7fcf023fbede>\u001b[0m in \u001b[0;36m<module>\u001b[1;34m\u001b[0m\n\u001b[0;32m      1\u001b[0m \u001b[0mresult\u001b[0m \u001b[1;33m=\u001b[0m \u001b[0mConformerHit\u001b[0m\u001b[1;33m(\u001b[0m\u001b[0mmol2\u001b[0m\u001b[1;33m,\u001b[0m\u001b[0mchl1\u001b[0m\u001b[1;33m)\u001b[0m\u001b[1;33m\u001b[0m\u001b[1;33m\u001b[0m\u001b[0m\n\u001b[1;32m----> 2\u001b[1;33m \u001b[0mi\u001b[0m \u001b[1;33m=\u001b[0m \u001b[0mresult\u001b[0m\u001b[1;33m.\u001b[0m\u001b[0mrmsd\u001b[0m\u001b[1;33m(\u001b[0m\u001b[1;33m)\u001b[0m\u001b[1;33m\u001b[0m\u001b[1;33m\u001b[0m\u001b[0m\n\u001b[0m",
      "\u001b[1;32mc:\\Users\\Clamfighter\\Machine_Learning_Project\\my_env\\lib\\site-packages\\ccdc\\conformer.py\u001b[0m in \u001b[0;36mrmsd\u001b[1;34m(self, wrt, reference, exclude_hydrogens)\u001b[0m\n\u001b[0;32m    219\u001b[0m         \u001b[1;32mif\u001b[0m \u001b[0mtarget\u001b[0m \u001b[1;32mis\u001b[0m \u001b[1;32mNone\u001b[0m\u001b[1;33m:\u001b[0m\u001b[1;33m\u001b[0m\u001b[1;33m\u001b[0m\u001b[0m\n\u001b[0;32m    220\u001b[0m             \u001b[1;32mreturn\u001b[0m \u001b[1;32mNone\u001b[0m\u001b[1;33m\u001b[0m\u001b[1;33m\u001b[0m\u001b[0m\n\u001b[1;32m--> 221\u001b[1;33m         \u001b[1;32mreturn\u001b[0m \u001b[0mMD\u001b[0m\u001b[1;33m.\u001b[0m\u001b[0mrmsd\u001b[0m\u001b[1;33m(\u001b[0m\u001b[0mtarget\u001b[0m\u001b[1;33m,\u001b[0m \u001b[0mself\u001b[0m\u001b[1;33m.\u001b[0m\u001b[0mmolecule\u001b[0m\u001b[1;33m,\u001b[0m \u001b[0mexclude_hydrogens\u001b[0m\u001b[1;33m=\u001b[0m\u001b[0mexclude_hydrogens\u001b[0m\u001b[1;33m,\u001b[0m \u001b[0moverlay\u001b[0m\u001b[1;33m=\u001b[0m\u001b[1;32mTrue\u001b[0m\u001b[1;33m)\u001b[0m\u001b[1;33m\u001b[0m\u001b[1;33m\u001b[0m\u001b[0m\n\u001b[0m\u001b[0;32m    222\u001b[0m \u001b[1;33m\u001b[0m\u001b[0m\n\u001b[0;32m    223\u001b[0m     \u001b[1;33m@\u001b[0m\u001b[0mproperty\u001b[0m\u001b[1;33m\u001b[0m\u001b[1;33m\u001b[0m\u001b[0m\n",
      "\u001b[1;32mc:\\Users\\Clamfighter\\Machine_Learning_Project\\my_env\\lib\\site-packages\\ccdc\\descriptors.py\u001b[0m in \u001b[0;36mrmsd\u001b[1;34m(mol1, mol2, atoms, overlay, exclude_hydrogens, with_symmetry)\u001b[0m\n\u001b[0;32m    347\u001b[0m         '''\n\u001b[0;32m    348\u001b[0m         \u001b[1;32mif\u001b[0m \u001b[0moverlay\u001b[0m\u001b[1;33m:\u001b[0m\u001b[1;33m\u001b[0m\u001b[1;33m\u001b[0m\u001b[0m\n\u001b[1;32m--> 349\u001b[1;33m             \u001b[0mmol2\u001b[0m \u001b[1;33m=\u001b[0m \u001b[0mMolecularDescriptors\u001b[0m\u001b[1;33m.\u001b[0m\u001b[0moverlay\u001b[0m\u001b[1;33m(\u001b[0m\u001b[0mmol1\u001b[0m\u001b[1;33m,\u001b[0m \u001b[0mmol2\u001b[0m\u001b[1;33m,\u001b[0m \u001b[0matoms\u001b[0m\u001b[1;33m,\u001b[0m \u001b[0mwith_symmetry\u001b[0m\u001b[1;33m=\u001b[0m\u001b[0mwith_symmetry\u001b[0m\u001b[1;33m)\u001b[0m\u001b[1;33m\u001b[0m\u001b[1;33m\u001b[0m\u001b[0m\n\u001b[0m\u001b[0;32m    350\u001b[0m         \u001b[1;32mif\u001b[0m \u001b[0mwith_symmetry\u001b[0m\u001b[1;33m:\u001b[0m\u001b[1;33m\u001b[0m\u001b[1;33m\u001b[0m\u001b[0m\n\u001b[0;32m    351\u001b[0m             \u001b[0msymm\u001b[0m \u001b[1;33m=\u001b[0m \u001b[0mChemicalAnalysisLib\u001b[0m\u001b[1;33m.\u001b[0m\u001b[0mWITH_SYMMETRY\u001b[0m\u001b[1;33m\u001b[0m\u001b[1;33m\u001b[0m\u001b[0m\n",
      "\u001b[1;32mc:\\Users\\Clamfighter\\Machine_Learning_Project\\my_env\\lib\\site-packages\\ccdc\\descriptors.py\u001b[0m in \u001b[0;36moverlay\u001b[1;34m(mol1, mol2, atoms, invert, rotate_torsions, with_symmetry)\u001b[0m\n\u001b[0;32m    332\u001b[0m         \u001b[0mNote\u001b[0m\u001b[1;33m:\u001b[0m \u001b[1;32mif\u001b[0m \u001b[0mwith_symmetry\u001b[0m \u001b[1;32mis\u001b[0m \u001b[0mtrue\u001b[0m\u001b[1;33m,\u001b[0m \u001b[1;32mand\u001b[0m \u001b[0mmatching\u001b[0m \u001b[0matoms\u001b[0m \u001b[0mare\u001b[0m \u001b[0mprovided\u001b[0m\u001b[1;33m,\u001b[0m \u001b[0mthen\u001b[0m \u001b[0mthe\u001b[0m \u001b[0mmatching\u001b[0m \u001b[0matoms\u001b[0m \u001b[0mneed\u001b[0m \u001b[0mto\u001b[0m \u001b[0mform\u001b[0m \u001b[0ma\u001b[0m \u001b[0mconnected\u001b[0m \u001b[0mstructure\u001b[0m\u001b[1;33m.\u001b[0m\u001b[1;33m\u001b[0m\u001b[1;33m\u001b[0m\u001b[0m\n\u001b[0;32m    333\u001b[0m         '''\n\u001b[1;32m--> 334\u001b[1;33m         \u001b[1;32mreturn\u001b[0m \u001b[0mMolecularDescriptors\u001b[0m\u001b[1;33m.\u001b[0m\u001b[0moverlay_rmsds_and_transformation\u001b[0m\u001b[1;33m(\u001b[0m\u001b[0mmol1\u001b[0m\u001b[1;33m,\u001b[0m\u001b[0mmol2\u001b[0m\u001b[1;33m,\u001b[0m\u001b[0matoms\u001b[0m\u001b[1;33m,\u001b[0m\u001b[0minvert\u001b[0m\u001b[1;33m,\u001b[0m\u001b[0mrotate_torsions\u001b[0m\u001b[1;33m,\u001b[0m\u001b[0mwith_symmetry\u001b[0m\u001b[1;33m)\u001b[0m\u001b[1;33m[\u001b[0m\u001b[1;36m0\u001b[0m\u001b[1;33m]\u001b[0m\u001b[1;33m\u001b[0m\u001b[1;33m\u001b[0m\u001b[0m\n\u001b[0m\u001b[0;32m    335\u001b[0m \u001b[1;33m\u001b[0m\u001b[0m\n\u001b[0;32m    336\u001b[0m     \u001b[1;33m@\u001b[0m\u001b[0mstaticmethod\u001b[0m\u001b[1;33m\u001b[0m\u001b[1;33m\u001b[0m\u001b[0m\n",
      "\u001b[1;32mc:\\Users\\Clamfighter\\Machine_Learning_Project\\my_env\\lib\\site-packages\\ccdc\\descriptors.py\u001b[0m in \u001b[0;36moverlay_rmsds_and_transformation\u001b[1;34m(mol1, mol2, atoms, invert, rotate_torsions, with_symmetry)\u001b[0m\n\u001b[0;32m    267\u001b[0m                 \u001b[0mm2\u001b[0m\u001b[1;33m.\u001b[0m\u001b[0m_molecule\u001b[0m\u001b[1;33m,\u001b[0m\u001b[1;33m\u001b[0m\u001b[1;33m\u001b[0m\u001b[0m\n\u001b[0;32m    268\u001b[0m                 \u001b[0minvert\u001b[0m\u001b[1;33m,\u001b[0m\u001b[1;33m\u001b[0m\u001b[1;33m\u001b[0m\u001b[0m\n\u001b[1;32m--> 269\u001b[1;33m                 \u001b[0mrotate\u001b[0m\u001b[1;33m\u001b[0m\u001b[1;33m\u001b[0m\u001b[0m\n\u001b[0m\u001b[0;32m    270\u001b[0m             )\n\u001b[0;32m    271\u001b[0m             \u001b[0mov\u001b[0m\u001b[1;33m.\u001b[0m\u001b[0mfit_geometry\u001b[0m\u001b[1;33m(\u001b[0m\u001b[1;33m)\u001b[0m\u001b[1;33m.\u001b[0m\u001b[0mapply\u001b[0m\u001b[1;33m(\u001b[0m\u001b[1;33m)\u001b[0m\u001b[1;33m\u001b[0m\u001b[1;33m\u001b[0m\u001b[0m\n",
      "\u001b[1;32mc:\\Users\\Clamfighter\\Machine_Learning_Project\\my_env\\lib\\site-packages\\ccdc\\_lib\\ChemicalAnalysisLib.py\u001b[0m in \u001b[0;36m__init__\u001b[1;34m(self, *args)\u001b[0m\n\u001b[0;32m   1581\u001b[0m \u001b[1;33m\u001b[0m\u001b[0m\n\u001b[0;32m   1582\u001b[0m     \u001b[1;32mdef\u001b[0m \u001b[0m__init__\u001b[0m\u001b[1;33m(\u001b[0m\u001b[0mself\u001b[0m\u001b[1;33m,\u001b[0m \u001b[1;33m*\u001b[0m\u001b[0margs\u001b[0m\u001b[1;33m)\u001b[0m\u001b[1;33m:\u001b[0m\u001b[1;33m\u001b[0m\u001b[1;33m\u001b[0m\u001b[0m\n\u001b[1;32m-> 1583\u001b[1;33m         \u001b[0m_ChemicalAnalysisLib\u001b[0m\u001b[1;33m.\u001b[0m\u001b[0mMoleculeOverlay_swiginit\u001b[0m\u001b[1;33m(\u001b[0m\u001b[0mself\u001b[0m\u001b[1;33m,\u001b[0m \u001b[0m_ChemicalAnalysisLib\u001b[0m\u001b[1;33m.\u001b[0m\u001b[0mnew_MoleculeOverlay\u001b[0m\u001b[1;33m(\u001b[0m\u001b[1;33m*\u001b[0m\u001b[0margs\u001b[0m\u001b[1;33m)\u001b[0m\u001b[1;33m)\u001b[0m\u001b[1;33m\u001b[0m\u001b[1;33m\u001b[0m\u001b[0m\n\u001b[0m\u001b[0;32m   1584\u001b[0m     \u001b[0m__swig_destroy__\u001b[0m \u001b[1;33m=\u001b[0m \u001b[0m_ChemicalAnalysisLib\u001b[0m\u001b[1;33m.\u001b[0m\u001b[0mdelete_MoleculeOverlay\u001b[0m\u001b[1;33m\u001b[0m\u001b[1;33m\u001b[0m\u001b[0m\n\u001b[0;32m   1585\u001b[0m \u001b[1;33m\u001b[0m\u001b[0m\n",
      "\u001b[1;31mRuntimeError\u001b[0m: Cannot overlay unmatched molecules that do not forma single connected unit. MoleculeOverlay::find_matches"
     ]
    }
   ],
   "source": [
    "result = ConformerHit(mol2,chl1)\n",
    "i = result.rmsd()"
   ]
  },
  {
   "cell_type": "code",
   "execution_count": 13,
   "metadata": {},
   "outputs": [
    {
     "output_type": "stream",
     "name": "stdout",
     "text": [
      "cif\ncsdsql\ncsdsqlx\nidentifiers\nmol\nmol2\nres\nsdf\nsqlite\nsqlmol2\n"
     ]
    }
   ],
   "source": [
    "from ccdc.io import CrystalReader\n",
    "reader_formats = sorted(CrystalReader.known_formats.keys())\n",
    "print('\\n'.join(reader_formats))"
   ]
  },
  {
   "cell_type": "code",
   "execution_count": 36,
   "metadata": {},
   "outputs": [
    {
     "output_type": "stream",
     "name": "stderr",
     "text": [
      "WARNING conformer.py:557 Conformers not generated for discontiguous molecules.\n",
      "job_00027\n",
      "2226.54\n"
     ]
    }
   ],
   "source": [
    "crystal_reader = CrystalReader(r'C:\\Users\\Clamfighter\\Machine_Learning_Project\\my_env\\Masters\\T2_5679_predicted_crystals\\T2_5679_predicted_crystals\\job_00027.cif', format='cif')\n",
    "cryst = crystal_reader[0]\n",
    "mol = cryst.molecule\n",
    "print(mol.identifier)\n",
    "print(round(cryst.cell_volume, 3))\n",
    "from ccdc.conformer import ConformerGenerator\n",
    "conformer = ConformerGenerator()\n",
    "chl1 = conformer.generate(mol)"
   ]
  },
  {
   "cell_type": "code",
   "execution_count": 31,
   "metadata": {},
   "outputs": [
    {
     "output_type": "execute_result",
     "data": {
      "text/plain": [
       "<ccdc.crystal.Crystal at 0x2240144b388>"
      ]
     },
     "metadata": {},
     "execution_count": 31
    }
   ],
   "source": [
    "crystal_reader[0]"
   ]
  },
  {
   "cell_type": "code",
   "execution_count": 32,
   "metadata": {},
   "outputs": [
    {
     "output_type": "stream",
     "name": "stdout",
     "text": [
      "job_00014\n"
     ]
    },
    {
     "output_type": "execute_result",
     "data": {
      "text/plain": [
       "1134.927"
      ]
     },
     "metadata": {},
     "execution_count": 32
    }
   ],
   "source": [
    "cryst = crystal_reader[0]\n",
    "mol = cryst.molecule\n",
    "print(mol.identifier)\n",
    "round(cryst.cell_volume, 3)"
   ]
  },
  {
   "cell_type": "code",
   "execution_count": 33,
   "metadata": {},
   "outputs": [
    {
     "output_type": "stream",
     "name": "stderr",
     "text": [
      "WARNING conformer.py:557 Conformers not generated for discontiguous molecules.\n"
     ]
    }
   ],
   "source": [
    "from ccdc.conformer import ConformerGenerator\n",
    "conformer = ConformerGenerator()\n",
    "chl1 = conformer.generate(mol)\n",
    "#conformer2 = ConformerGenerator()\n",
    "#chl2 = conformer2.generate(mol2)"
   ]
  },
  {
   "cell_type": "code",
   "execution_count": 22,
   "metadata": {},
   "outputs": [
    {
     "output_type": "error",
     "ename": "AttributeError",
     "evalue": "'NoneType' object has no attribute 'original_molecule'",
     "traceback": [
      "\u001b[1;31m---------------------------------------------------------------------------\u001b[0m",
      "\u001b[1;31mAttributeError\u001b[0m                            Traceback (most recent call last)",
      "\u001b[1;32m<ipython-input-22-75ba46327980>\u001b[0m in \u001b[0;36m<module>\u001b[1;34m\u001b[0m\n\u001b[0;32m      1\u001b[0m \u001b[0mresult\u001b[0m \u001b[1;33m=\u001b[0m \u001b[0mConformerHit\u001b[0m\u001b[1;33m(\u001b[0m\u001b[0mmol\u001b[0m\u001b[1;33m,\u001b[0m\u001b[0mchl1\u001b[0m\u001b[1;33m)\u001b[0m\u001b[1;33m\u001b[0m\u001b[1;33m\u001b[0m\u001b[0m\n\u001b[1;32m----> 2\u001b[1;33m \u001b[0mi\u001b[0m \u001b[1;33m=\u001b[0m \u001b[0mresult\u001b[0m\u001b[1;33m.\u001b[0m\u001b[0mrmsd\u001b[0m\u001b[1;33m(\u001b[0m\u001b[1;33m)\u001b[0m\u001b[1;33m\u001b[0m\u001b[1;33m\u001b[0m\u001b[0m\n\u001b[0m",
      "\u001b[1;32mc:\\Users\\Clamfighter\\Machine_Learning_Project\\my_env\\lib\\site-packages\\ccdc\\conformer.py\u001b[0m in \u001b[0;36mrmsd\u001b[1;34m(self, wrt, reference, exclude_hydrogens)\u001b[0m\n\u001b[0;32m    214\u001b[0m             \u001b[0mtarget\u001b[0m \u001b[1;33m=\u001b[0m \u001b[0mreference\u001b[0m\u001b[1;33m\u001b[0m\u001b[1;33m\u001b[0m\u001b[0m\n\u001b[0;32m    215\u001b[0m         \u001b[1;32melif\u001b[0m \u001b[0mwrt\u001b[0m\u001b[1;33m.\u001b[0m\u001b[0mlower\u001b[0m\u001b[1;33m(\u001b[0m\u001b[1;33m)\u001b[0m\u001b[1;33m.\u001b[0m\u001b[0mstartswith\u001b[0m\u001b[1;33m(\u001b[0m\u001b[1;34m'orig'\u001b[0m\u001b[1;33m)\u001b[0m\u001b[1;33m:\u001b[0m\u001b[1;33m\u001b[0m\u001b[1;33m\u001b[0m\u001b[0m\n\u001b[1;32m--> 216\u001b[1;33m             \u001b[0mtarget\u001b[0m \u001b[1;33m=\u001b[0m \u001b[0mself\u001b[0m\u001b[1;33m.\u001b[0m\u001b[0mparent\u001b[0m\u001b[1;33m.\u001b[0m\u001b[0moriginal_molecule\u001b[0m\u001b[1;33m\u001b[0m\u001b[1;33m\u001b[0m\u001b[0m\n\u001b[0m\u001b[0;32m    217\u001b[0m         \u001b[1;32melse\u001b[0m\u001b[1;33m:\u001b[0m\u001b[1;33m\u001b[0m\u001b[1;33m\u001b[0m\u001b[0m\n\u001b[0;32m    218\u001b[0m             \u001b[0mtarget\u001b[0m \u001b[1;33m=\u001b[0m \u001b[0mself\u001b[0m\u001b[1;33m.\u001b[0m\u001b[0mparent\u001b[0m\u001b[1;33m.\u001b[0m\u001b[0mminimised_molecule\u001b[0m\u001b[1;33m\u001b[0m\u001b[1;33m\u001b[0m\u001b[0m\n",
      "\u001b[1;31mAttributeError\u001b[0m: 'NoneType' object has no attribute 'original_molecule'"
     ]
    }
   ],
   "source": [
    "result = ConformerHit(mol,chl1)\n",
    "i = result.rmsd()"
   ]
  },
  {
   "cell_type": "code",
   "execution_count": null,
   "metadata": {},
   "outputs": [],
   "source": []
  }
 ]
}