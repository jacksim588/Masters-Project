{
 "metadata": {
  "language_info": {
   "codemirror_mode": {
    "name": "ipython",
    "version": 3
   },
   "file_extension": ".py",
   "mimetype": "text/x-python",
   "name": "python",
   "nbconvert_exporter": "python",
   "pygments_lexer": "ipython3",
   "version": "3.7.6"
  },
  "orig_nbformat": 4,
  "kernelspec": {
   "name": "python3",
   "display_name": "Python 3.7.6 64-bit ('my_env': venv)"
  },
  "interpreter": {
   "hash": "cabf3273fec0e8f7911cea4cbe0d6d7dc9af377d5f14fa2ac4239c22bd50cd1b"
  }
 },
 "nbformat": 4,
 "nbformat_minor": 2,
 "cells": [
  {
   "cell_type": "code",
   "execution_count": 1,
   "metadata": {},
   "outputs": [],
   "source": [
    "import amd\n",
    "reader = amd.CifReader(r'C:\\Users\\Clamfighter\\Machine_Learning_Project\\my_env\\Masters\\T2_5679_predicted_crystals\\T2_5679_predicted_crystals\\job_00001.cif')"
   ]
  },
  {
   "cell_type": "code",
   "execution_count": 3,
   "metadata": {},
   "outputs": [
    {
     "output_type": "stream",
     "name": "stdout",
     "text": [
      "92\n"
     ]
    }
   ],
   "source": [
    "for periodic_set in reader:\n",
    "    print(periodic_set.motif.shape[0]) # prints number of motif points"
   ]
  },
  {
   "cell_type": "code",
   "execution_count": 9,
   "metadata": {},
   "outputs": [],
   "source": [
    "import ccdc\n",
    "from ccdc.conformer import ConformerHit\n",
    "import ccdc.crystal"
   ]
  },
  {
   "cell_type": "code",
   "execution_count": 16,
   "metadata": {},
   "outputs": [
    {
     "output_type": "execute_result",
     "data": {
      "text/plain": [
       "769.978"
      ]
     },
     "metadata": {},
     "execution_count": 16
    }
   ],
   "source": [
    "from ccdc.io import CrystalReader\n",
    "csd_crystal_reader = CrystalReader('CSD')\n",
    "first_csd_crystal = csd_crystal_reader[0]\n",
    "round(first_csd_crystal.cell_volume, 3)"
   ]
  },
  {
   "cell_type": "code",
   "execution_count": 17,
   "metadata": {},
   "outputs": [
    {
     "output_type": "stream",
     "name": "stdout",
     "text": [
      "AABHTZ\n[<ccdc.molecule.Molecule object at 0x000002358DB58288>]\n"
     ]
    }
   ],
   "source": [
    "mol = first_csd_crystal.molecule\n",
    "print(mol.identifier)\n",
    "print(mol.components)"
   ]
  },
  {
   "cell_type": "code",
   "execution_count": 18,
   "metadata": {},
   "outputs": [
    {
     "output_type": "stream",
     "name": "stdout",
     "text": [
      "AACFAZ\n"
     ]
    },
    {
     "output_type": "execute_result",
     "data": {
      "text/plain": [
       "2475.361"
      ]
     },
     "metadata": {},
     "execution_count": 18
    }
   ],
   "source": [
    "csd_crystal_reader = CrystalReader('CSD')\n",
    "first_csd_crystal = csd_crystal_reader[3]\n",
    "mol2 = first_csd_crystal.molecule\n",
    "print(mol2.identifier)\n",
    "round(first_csd_crystal.cell_volume, 3)"
   ]
  },
  {
   "cell_type": "code",
   "execution_count": 25,
   "metadata": {},
   "outputs": [],
   "source": [
    "from ccdc.conformer import ConformerGenerator\n",
    "conformer = ConformerGenerator()\n",
    "chl1 =conformer.generate(mol)\n",
    "conformer2 = ConformerGenerator()\n",
    "chl2 = conformer2.generate(mol2)"
   ]
  },
  {
   "cell_type": "code",
   "execution_count": 26,
   "metadata": {},
   "outputs": [
    {
     "output_type": "error",
     "ename": "AttributeError",
     "evalue": "'NoneType' object has no attribute 'original_molecule'",
     "traceback": [
      "\u001b[1;31m---------------------------------------------------------------------------\u001b[0m",
      "\u001b[1;31mAttributeError\u001b[0m                            Traceback (most recent call last)",
      "\u001b[1;32m<ipython-input-26-f8b63656ca3d>\u001b[0m in \u001b[0;36m<module>\u001b[1;34m\u001b[0m\n\u001b[0;32m      1\u001b[0m \u001b[0mresult\u001b[0m \u001b[1;33m=\u001b[0m \u001b[0mConformerHit\u001b[0m\u001b[1;33m(\u001b[0m\u001b[0mmol\u001b[0m\u001b[1;33m,\u001b[0m\u001b[0mchl2\u001b[0m\u001b[1;33m)\u001b[0m\u001b[1;33m\u001b[0m\u001b[1;33m\u001b[0m\u001b[0m\n\u001b[1;32m----> 2\u001b[1;33m \u001b[0mresult\u001b[0m\u001b[1;33m.\u001b[0m\u001b[0mrmsd\u001b[0m\u001b[1;33m(\u001b[0m\u001b[1;33m)\u001b[0m\u001b[1;33m\u001b[0m\u001b[1;33m\u001b[0m\u001b[0m\n\u001b[0m",
      "\u001b[1;32mc:\\Users\\Clamfighter\\Machine_Learning_Project\\my_env\\lib\\site-packages\\ccdc\\conformer.py\u001b[0m in \u001b[0;36mrmsd\u001b[1;34m(self, wrt, reference, exclude_hydrogens)\u001b[0m\n\u001b[0;32m    214\u001b[0m             \u001b[0mtarget\u001b[0m \u001b[1;33m=\u001b[0m \u001b[0mreference\u001b[0m\u001b[1;33m\u001b[0m\u001b[1;33m\u001b[0m\u001b[0m\n\u001b[0;32m    215\u001b[0m         \u001b[1;32melif\u001b[0m \u001b[0mwrt\u001b[0m\u001b[1;33m.\u001b[0m\u001b[0mlower\u001b[0m\u001b[1;33m(\u001b[0m\u001b[1;33m)\u001b[0m\u001b[1;33m.\u001b[0m\u001b[0mstartswith\u001b[0m\u001b[1;33m(\u001b[0m\u001b[1;34m'orig'\u001b[0m\u001b[1;33m)\u001b[0m\u001b[1;33m:\u001b[0m\u001b[1;33m\u001b[0m\u001b[1;33m\u001b[0m\u001b[0m\n\u001b[1;32m--> 216\u001b[1;33m             \u001b[0mtarget\u001b[0m \u001b[1;33m=\u001b[0m \u001b[0mself\u001b[0m\u001b[1;33m.\u001b[0m\u001b[0mparent\u001b[0m\u001b[1;33m.\u001b[0m\u001b[0moriginal_molecule\u001b[0m\u001b[1;33m\u001b[0m\u001b[1;33m\u001b[0m\u001b[0m\n\u001b[0m\u001b[0;32m    217\u001b[0m         \u001b[1;32melse\u001b[0m\u001b[1;33m:\u001b[0m\u001b[1;33m\u001b[0m\u001b[1;33m\u001b[0m\u001b[0m\n\u001b[0;32m    218\u001b[0m             \u001b[0mtarget\u001b[0m \u001b[1;33m=\u001b[0m \u001b[0mself\u001b[0m\u001b[1;33m.\u001b[0m\u001b[0mparent\u001b[0m\u001b[1;33m.\u001b[0m\u001b[0mminimised_molecule\u001b[0m\u001b[1;33m\u001b[0m\u001b[1;33m\u001b[0m\u001b[0m\n",
      "\u001b[1;31mAttributeError\u001b[0m: 'NoneType' object has no attribute 'original_molecule'"
     ]
    }
   ],
   "source": [
    "result = ConformerHit(mol,chl2)\n",
    "result.rmsd()"
   ]
  },
  {
   "cell_type": "code",
   "execution_count": 13,
   "metadata": {},
   "outputs": [
    {
     "output_type": "stream",
     "name": "stdout",
     "text": [
      "cif\ncsdsql\ncsdsqlx\nidentifiers\nmol\nmol2\nres\nsdf\nsqlite\nsqlmol2\n"
     ]
    }
   ],
   "source": [
    "from ccdc.io import CrystalReader\n",
    "reader_formats = sorted(CrystalReader.known_formats.keys())\n",
    "print('\\n'.join(reader_formats))"
   ]
  },
  {
   "cell_type": "code",
   "execution_count": 31,
   "metadata": {},
   "outputs": [
    {
     "output_type": "stream",
     "name": "stderr",
     "text": [
      "WARNING conformer.py:557 Conformers not generated for discontiguous molecules.\n",
      "[<ccdc.molecule.Molecule object at 0x000002358E4C3748>, <ccdc.molecule.Molecule object at 0x0000023590BED688>, <ccdc.molecule.Molecule object at 0x000002358FA40F08>, <ccdc.molecule.Molecule object at 0x000002358DBB30C8>, <ccdc.molecule.Molecule object at 0x0000023590BE7108>, <ccdc.molecule.Molecule object at 0x0000023590B16108>]\n",
      "job_00031\n",
      "3374.851\n"
     ]
    }
   ],
   "source": [
    "from ccdc.conformer import ConformerGenerator\n",
    "from ccdc.io import CrystalReader\n",
    "crystal_reader = CrystalReader(r'C:\\Users\\Clamfighter\\Machine_Learning_Project\\my_env\\Masters\\T2_5679_predicted_crystals\\T2_5679_predicted_crystals\\job_00031.cif', format='cif')\n",
    "cryst = crystal_reader[0]\n",
    "mol = cryst.molecule\n",
    "print(mol.components)\n",
    "print(mol.identifier)\n",
    "print(round(cryst.cell_volume, 3))\n",
    "from ccdc.conformer import ConformerGenerator\n",
    "conformer = ConformerGenerator()\n",
    "chl1 = conformer.generate(mol)"
   ]
  },
  {
   "cell_type": "code",
   "execution_count": 31,
   "metadata": {},
   "outputs": [
    {
     "output_type": "execute_result",
     "data": {
      "text/plain": [
       "<ccdc.crystal.Crystal at 0x2240144b388>"
      ]
     },
     "metadata": {},
     "execution_count": 31
    }
   ],
   "source": [
    "crystal_reader[0]"
   ]
  },
  {
   "cell_type": "code",
   "execution_count": 32,
   "metadata": {},
   "outputs": [
    {
     "output_type": "stream",
     "name": "stdout",
     "text": [
      "job_00014\n"
     ]
    },
    {
     "output_type": "execute_result",
     "data": {
      "text/plain": [
       "1134.927"
      ]
     },
     "metadata": {},
     "execution_count": 32
    }
   ],
   "source": [
    "cryst = crystal_reader[0]\n",
    "mol = cryst.molecule\n",
    "print(mol.identifier)\n",
    "round(cryst.cell_volume, 3)"
   ]
  },
  {
   "cell_type": "code",
   "execution_count": 33,
   "metadata": {},
   "outputs": [
    {
     "output_type": "stream",
     "name": "stderr",
     "text": [
      "WARNING conformer.py:557 Conformers not generated for discontiguous molecules.\n"
     ]
    }
   ],
   "source": [
    "from ccdc.conformer import ConformerGenerator\n",
    "conformer = ConformerGenerator()\n",
    "chl1 = conformer.generate(mol)\n",
    "#conformer2 = ConformerGenerator()\n",
    "#chl2 = conformer2.generate(mol2)"
   ]
  },
  {
   "cell_type": "code",
   "execution_count": 22,
   "metadata": {},
   "outputs": [
    {
     "output_type": "error",
     "ename": "AttributeError",
     "evalue": "'NoneType' object has no attribute 'original_molecule'",
     "traceback": [
      "\u001b[1;31m---------------------------------------------------------------------------\u001b[0m",
      "\u001b[1;31mAttributeError\u001b[0m                            Traceback (most recent call last)",
      "\u001b[1;32m<ipython-input-22-75ba46327980>\u001b[0m in \u001b[0;36m<module>\u001b[1;34m\u001b[0m\n\u001b[0;32m      1\u001b[0m \u001b[0mresult\u001b[0m \u001b[1;33m=\u001b[0m \u001b[0mConformerHit\u001b[0m\u001b[1;33m(\u001b[0m\u001b[0mmol\u001b[0m\u001b[1;33m,\u001b[0m\u001b[0mchl1\u001b[0m\u001b[1;33m)\u001b[0m\u001b[1;33m\u001b[0m\u001b[1;33m\u001b[0m\u001b[0m\n\u001b[1;32m----> 2\u001b[1;33m \u001b[0mi\u001b[0m \u001b[1;33m=\u001b[0m \u001b[0mresult\u001b[0m\u001b[1;33m.\u001b[0m\u001b[0mrmsd\u001b[0m\u001b[1;33m(\u001b[0m\u001b[1;33m)\u001b[0m\u001b[1;33m\u001b[0m\u001b[1;33m\u001b[0m\u001b[0m\n\u001b[0m",
      "\u001b[1;32mc:\\Users\\Clamfighter\\Machine_Learning_Project\\my_env\\lib\\site-packages\\ccdc\\conformer.py\u001b[0m in \u001b[0;36mrmsd\u001b[1;34m(self, wrt, reference, exclude_hydrogens)\u001b[0m\n\u001b[0;32m    214\u001b[0m             \u001b[0mtarget\u001b[0m \u001b[1;33m=\u001b[0m \u001b[0mreference\u001b[0m\u001b[1;33m\u001b[0m\u001b[1;33m\u001b[0m\u001b[0m\n\u001b[0;32m    215\u001b[0m         \u001b[1;32melif\u001b[0m \u001b[0mwrt\u001b[0m\u001b[1;33m.\u001b[0m\u001b[0mlower\u001b[0m\u001b[1;33m(\u001b[0m\u001b[1;33m)\u001b[0m\u001b[1;33m.\u001b[0m\u001b[0mstartswith\u001b[0m\u001b[1;33m(\u001b[0m\u001b[1;34m'orig'\u001b[0m\u001b[1;33m)\u001b[0m\u001b[1;33m:\u001b[0m\u001b[1;33m\u001b[0m\u001b[1;33m\u001b[0m\u001b[0m\n\u001b[1;32m--> 216\u001b[1;33m             \u001b[0mtarget\u001b[0m \u001b[1;33m=\u001b[0m \u001b[0mself\u001b[0m\u001b[1;33m.\u001b[0m\u001b[0mparent\u001b[0m\u001b[1;33m.\u001b[0m\u001b[0moriginal_molecule\u001b[0m\u001b[1;33m\u001b[0m\u001b[1;33m\u001b[0m\u001b[0m\n\u001b[0m\u001b[0;32m    217\u001b[0m         \u001b[1;32melse\u001b[0m\u001b[1;33m:\u001b[0m\u001b[1;33m\u001b[0m\u001b[1;33m\u001b[0m\u001b[0m\n\u001b[0;32m    218\u001b[0m             \u001b[0mtarget\u001b[0m \u001b[1;33m=\u001b[0m \u001b[0mself\u001b[0m\u001b[1;33m.\u001b[0m\u001b[0mparent\u001b[0m\u001b[1;33m.\u001b[0m\u001b[0mminimised_molecule\u001b[0m\u001b[1;33m\u001b[0m\u001b[1;33m\u001b[0m\u001b[0m\n",
      "\u001b[1;31mAttributeError\u001b[0m: 'NoneType' object has no attribute 'original_molecule'"
     ]
    }
   ],
   "source": [
    "result = ConformerHit(mol,chl1)\n",
    "i = result.rmsd()"
   ]
  },
  {
   "cell_type": "code",
   "execution_count": 32,
   "metadata": {},
   "outputs": [
    {
     "output_type": "stream",
     "name": "stderr",
     "text": [
      "WARNING conformer.py:557 Conformers not generated for discontiguous molecules.\n",
      "[<ccdc.molecule.Molecule object at 0x0000023595562208>, <ccdc.molecule.Molecule object at 0x0000023595562688>, <ccdc.molecule.Molecule object at 0x0000023595562348>, <ccdc.molecule.Molecule object at 0x0000023595562D08>, <ccdc.molecule.Molecule object at 0x0000023595562948>, <ccdc.molecule.Molecule object at 0x0000023595562C08>]\n",
      "job_00031\n",
      "3374.851\n"
     ]
    }
   ],
   "source": [
    "conformer = ConformerGenerator()\n",
    "crystal_reader = CrystalReader(r'C:\\Users\\Clamfighter\\Machine_Learning_Project\\my_env\\Masters\\T2_5679_predicted_crystals\\T2_5679_predicted_crystals\\job00001.cif', format='cif')\n",
    "cryst = crystal_reader[0]\n",
    "mol2 = cryst.molecule\n",
    "chltemp = conformer.generate(mol)\n",
    "print(mol.components)"
   ]
  },
  {
   "cell_type": "code",
   "execution_count": 35,
   "metadata": {
    "tags": [
     "outputPrepend"
    ]
   },
   "outputs": [
    {
     "output_type": "stream",
     "name": "stderr",
     "text": [
      "s molecules.\n",
      "WARNING conformer.py:557 Conformers not generated for discontiguous molecules.\n",
      "WARNING conformer.py:557 Conformers not generated for discontiguous molecules.\n",
      "WARNING conformer.py:557 Conformers not generated for discontiguous molecules.\n",
      "WARNING conformer.py:557 Conformers not generated for discontiguous molecules.\n",
      "WARNING conformer.py:557 Conformers not generated for discontiguous molecules.\n",
      "WARNING conformer.py:557 Conformers not generated for discontiguous molecules.\n",
      "WARNING conformer.py:557 Conformers not generated for discontiguous molecules.\n",
      "WARNING conformer.py:557 Conformers not generated for discontiguous molecules.\n",
      "WARNING conformer.py:557 Conformers not generated for discontiguous molecules.\n",
      "WARNING conformer.py:557 Conformers not generated for discontiguous molecules.\n",
      "WARNING conformer.py:557 Conformers not generated for discontiguous molecules.\n",
      "WARNING conformer.py:557 Conformers not generated for discontiguous molecules.\n",
      "WARNING conformer.py:557 Conformers not generated for discontiguous molecules.\n",
      "WARNING conformer.py:557 Conformers not generated for discontiguous molecules.\n",
      "WARNING conformer.py:557 Conformers not generated for discontiguous molecules.\n",
      "WARNING conformer.py:557 Conformers not generated for discontiguous molecules.\n",
      "WARNING conformer.py:557 Conformers not generated for discontiguous molecules.\n",
      "WARNING conformer.py:557 Conformers not generated for discontiguous molecules.\n",
      "WARNING conformer.py:557 Conformers not generated for discontiguous molecules.\n",
      "WARNING conformer.py:557 Conformers not generated for discontiguous molecules.\n",
      "WARNING conformer.py:557 Conformers not generated for discontiguous molecules.\n",
      "WARNING conformer.py:557 Conformers not generated for discontiguous molecules.\n",
      "WARNING conformer.py:557 Conformers not generated for discontiguous molecules.\n",
      "WARNING conformer.py:557 Conformers not generated for discontiguous molecules.\n",
      "WARNING conformer.py:557 Conformers not generated for discontiguous molecules.\n",
      "WARNING conformer.py:557 Conformers not generated for discontiguous molecules.\n",
      "WARNING conformer.py:557 Conformers not generated for discontiguous molecules.\n",
      "WARNING conformer.py:557 Conformers not generated for discontiguous molecules.\n",
      "WARNING conformer.py:557 Conformers not generated for discontiguous molecules.\n",
      "WARNING conformer.py:557 Conformers not generated for discontiguous molecules.\n",
      "WARNING conformer.py:557 Conformers not generated for discontiguous molecules.\n",
      "WARNING conformer.py:557 Conformers not generated for discontiguous molecules.\n",
      "WARNING conformer.py:557 Conformers not generated for discontiguous molecules.\n",
      "WARNING conformer.py:557 Conformers not generated for discontiguous molecules.\n",
      "WARNING conformer.py:557 Conformers not generated for discontiguous molecules.\n",
      "WARNING conformer.py:557 Conformers not generated for discontiguous molecules.\n",
      "WARNING conformer.py:557 Conformers not generated for discontiguous molecules.\n",
      "WARNING conformer.py:557 Conformers not generated for discontiguous molecules.\n",
      "WARNING conformer.py:557 Conformers not generated for discontiguous molecules.\n",
      "WARNING conformer.py:557 Conformers not generated for discontiguous molecules.\n",
      "WARNING conformer.py:557 Conformers not generated for discontiguous molecules.\n",
      "WARNING conformer.py:557 Conformers not generated for discontiguous molecules.\n",
      "WARNING conformer.py:557 Conformers not generated for discontiguous molecules.\n",
      "WARNING conformer.py:557 Conformers not generated for discontiguous molecules.\n",
      "WARNING conformer.py:557 Conformers not generated for discontiguous molecules.\n",
      "WARNING conformer.py:557 Conformers not generated for discontiguous molecules.\n",
      "WARNING conformer.py:557 Conformers not generated for discontiguous molecules.\n",
      "WARNING conformer.py:557 Conformers not generated for discontiguous molecules.\n",
      "WARNING conformer.py:557 Conformers not generated for discontiguous molecules.\n",
      "WARNING conformer.py:557 Conformers not generated for discontiguous molecules.\n",
      "WARNING conformer.py:557 Conformers not generated for discontiguous molecules.\n",
      "WARNING conformer.py:557 Conformers not generated for discontiguous molecules.\n",
      "WARNING conformer.py:557 Conformers not generated for discontiguous molecules.\n",
      "WARNING conformer.py:557 Conformers not generated for discontiguous molecules.\n",
      "WARNING conformer.py:557 Conformers not generated for discontiguous molecules.\n",
      "WARNING conformer.py:557 Conformers not generated for discontiguous molecules.\n",
      "WARNING conformer.py:557 Conformers not generated for discontiguous molecules.\n",
      "WARNING conformer.py:557 Conformers not generated for discontiguous molecules.\n",
      "WARNING conformer.py:557 Conformers not generated for discontiguous molecules.\n",
      "WARNING conformer.py:557 Conformers not generated for discontiguous molecules.\n",
      "WARNING conformer.py:557 Conformers not generated for discontiguous molecules.\n",
      "WARNING conformer.py:557 Conformers not generated for discontiguous molecules.\n",
      "WARNING conformer.py:557 Conformers not generated for discontiguous molecules.\n",
      "WARNING conformer.py:557 Conformers not generated for discontiguous molecules.\n",
      "WARNING conformer.py:557 Conformers not generated for discontiguous molecules.\n",
      "WARNING conformer.py:557 Conformers not generated for discontiguous molecules.\n",
      "WARNING conformer.py:557 Conformers not generated for discontiguous molecules.\n",
      "WARNING conformer.py:557 Conformers not generated for discontiguous molecules.\n",
      "WARNING conformer.py:557 Conformers not generated for discontiguous molecules.\n",
      "WARNING conformer.py:557 Conformers not generated for discontiguous molecules.\n",
      "WARNING conformer.py:557 Conformers not generated for discontiguous molecules.\n",
      "WARNING conformer.py:557 Conformers not generated for discontiguous molecules.\n",
      "WARNING conformer.py:557 Conformers not generated for discontiguous molecules.\n",
      "WARNING conformer.py:557 Conformers not generated for discontiguous molecules.\n",
      "WARNING conformer.py:557 Conformers not generated for discontiguous molecules.\n",
      "WARNING conformer.py:557 Conformers not generated for discontiguous molecules.\n",
      "WARNING conformer.py:557 Conformers not generated for discontiguous molecules.\n",
      "WARNING conformer.py:557 Conformers not generated for discontiguous molecules.\n",
      "WARNING conformer.py:557 Conformers not generated for discontiguous molecules.\n",
      "WARNING conformer.py:557 Conformers not generated for discontiguous molecules.\n",
      "WARNING conformer.py:557 Conformers not generated for discontiguous molecules.\n",
      "WARNING conformer.py:557 Conformers not generated for discontiguous molecules.\n",
      "WARNING conformer.py:557 Conformers not generated for discontiguous molecules.\n",
      "WARNING conformer.py:557 Conformers not generated for discontiguous molecules.\n",
      "WARNING conformer.py:557 Conformers not generated for discontiguous molecules.\n",
      "WARNING conformer.py:557 Conformers not generated for discontiguous molecules.\n",
      "WARNING conformer.py:557 Conformers not generated for discontiguous molecules.\n",
      "WARNING conformer.py:557 Conformers not generated for discontiguous molecules.\n",
      "WARNING conformer.py:557 Conformers not generated for discontiguous molecules.\n",
      "WARNING conformer.py:557 Conformers not generated for discontiguous molecules.\n",
      "WARNING conformer.py:557 Conformers not generated for discontiguous molecules.\n",
      "WARNING conformer.py:557 Conformers not generated for discontiguous molecules.\n",
      "WARNING conformer.py:557 Conformers not generated for discontiguous molecules.\n",
      "WARNING conformer.py:557 Conformers not generated for discontiguous molecules.\n",
      "WARNING conformer.py:557 Conformers not generated for discontiguous molecules.\n",
      "WARNING conformer.py:557 Conformers not generated for discontiguous molecules.\n",
      "WARNING conformer.py:557 Conformers not generated for discontiguous molecules.\n",
      "WARNING conformer.py:557 Conformers not generated for discontiguous molecules.\n",
      "WARNING conformer.py:557 Conformers not generated for discontiguous molecules.\n",
      "WARNING conformer.py:557 Conformers not generated for discontiguous molecules.\n",
      "WARNING conformer.py:557 Conformers not generated for discontiguous molecules.\n",
      "WARNING conformer.py:557 Conformers not generated for discontiguous molecules.\n",
      "WARNING conformer.py:557 Conformers not generated for discontiguous molecules.\n",
      "WARNING conformer.py:557 Conformers not generated for discontiguous molecules.\n",
      "WARNING conformer.py:557 Conformers not generated for discontiguous molecules.\n",
      "WARNING conformer.py:557 Conformers not generated for discontiguous molecules.\n",
      "WARNING conformer.py:557 Conformers not generated for discontiguous molecules.\n",
      "WARNING conformer.py:557 Conformers not generated for discontiguous molecules.\n",
      "WARNING conformer.py:557 Conformers not generated for discontiguous molecules.\n",
      "WARNING conformer.py:557 Conformers not generated for discontiguous molecules.\n",
      "WARNING conformer.py:557 Conformers not generated for discontiguous molecules.\n",
      "WARNING conformer.py:557 Conformers not generated for discontiguous molecules.\n",
      "WARNING conformer.py:557 Conformers not generated for discontiguous molecules.\n",
      "WARNING conformer.py:557 Conformers not generated for discontiguous molecules.\n",
      "WARNING conformer.py:557 Conformers not generated for discontiguous molecules.\n",
      "WARNING conformer.py:557 Conformers not generated for discontiguous molecules.\n",
      "WARNING conformer.py:557 Conformers not generated for discontiguous molecules.\n",
      "WARNING conformer.py:557 Conformers not generated for discontiguous molecules.\n",
      "WARNING conformer.py:557 Conformers not generated for discontiguous molecules.\n",
      "WARNING conformer.py:557 Conformers not generated for discontiguous molecules.\n",
      "WARNING conformer.py:557 Conformers not generated for discontiguous molecules.\n",
      "WARNING conformer.py:557 Conformers not generated for discontiguous molecules.\n",
      "WARNING conformer.py:557 Conformers not generated for discontiguous molecules.\n",
      "WARNING conformer.py:557 Conformers not generated for discontiguous molecules.\n",
      "WARNING conformer.py:557 Conformers not generated for discontiguous molecules.\n",
      "WARNING conformer.py:557 Conformers not generated for discontiguous molecules.\n",
      "WARNING conformer.py:557 Conformers not generated for discontiguous molecules.\n",
      "WARNING conformer.py:557 Conformers not generated for discontiguous molecules.\n",
      "WARNING conformer.py:557 Conformers not generated for discontiguous molecules.\n",
      "WARNING conformer.py:557 Conformers not generated for discontiguous molecules.\n",
      "WARNING conformer.py:557 Conformers not generated for discontiguous molecules.\n",
      "WARNING conformer.py:557 Conformers not generated for discontiguous molecules.\n",
      "WARNING conformer.py:557 Conformers not generated for discontiguous molecules.\n",
      "WARNING conformer.py:557 Conformers not generated for discontiguous molecules.\n",
      "WARNING conformer.py:557 Conformers not generated for discontiguous molecules.\n",
      "WARNING conformer.py:557 Conformers not generated for discontiguous molecules.\n",
      "WARNING conformer.py:557 Conformers not generated for discontiguous molecules.\n",
      "WARNING conformer.py:557 Conformers not generated for discontiguous molecules.\n",
      "WARNING conformer.py:557 Conformers not generated for discontiguous molecules.\n",
      "WARNING conformer.py:557 Conformers not generated for discontiguous molecules.\n",
      "WARNING conformer.py:557 Conformers not generated for discontiguous molecules.\n",
      "WARNING conformer.py:557 Conformers not generated for discontiguous molecules.\n",
      "WARNING conformer.py:557 Conformers not generated for discontiguous molecules.\n",
      "WARNING conformer.py:557 Conformers not generated for discontiguous molecules.\n",
      "WARNING conformer.py:557 Conformers not generated for discontiguous molecules.\n",
      "WARNING conformer.py:557 Conformers not generated for discontiguous molecules.\n",
      "WARNING conformer.py:557 Conformers not generated for discontiguous molecules.\n",
      "WARNING conformer.py:557 Conformers not generated for discontiguous molecules.\n",
      "WARNING conformer.py:557 Conformers not generated for discontiguous molecules.\n",
      "WARNING conformer.py:557 Conformers not generated for discontiguous molecules.\n",
      "WARNING conformer.py:557 Conformers not generated for discontiguous molecules.\n",
      "WARNING conformer.py:557 Conformers not generated for discontiguous molecules.\n",
      "WARNING conformer.py:557 Conformers not generated for discontiguous molecules.\n",
      "WARNING conformer.py:557 Conformers not generated for discontiguous molecules.\n",
      "WARNING conformer.py:557 Conformers not generated for discontiguous molecules.\n",
      "WARNING conformer.py:557 Conformers not generated for discontiguous molecules.\n",
      "WARNING conformer.py:557 Conformers not generated for discontiguous molecules.\n",
      "WARNING conformer.py:557 Conformers not generated for discontiguous molecules.\n",
      "WARNING conformer.py:557 Conformers not generated for discontiguous molecules.\n",
      "WARNING conformer.py:557 Conformers not generated for discontiguous molecules.\n",
      "WARNING conformer.py:557 Conformers not generated for discontiguous molecules.\n",
      "WARNING conformer.py:557 Conformers not generated for discontiguous molecules.\n",
      "WARNING conformer.py:557 Conformers not generated for discontiguous molecules.\n",
      "WARNING conformer.py:557 Conformers not generated for discontiguous molecules.\n",
      "WARNING conformer.py:557 Conformers not generated for discontiguous molecules.\n",
      "WARNING conformer.py:557 Conformers not generated for discontiguous molecules.\n",
      "WARNING conformer.py:557 Conformers not generated for discontiguous molecules.\n",
      "WARNING conformer.py:557 Conformers not generated for discontiguous molecules.\n",
      "WARNING conformer.py:557 Conformers not generated for discontiguous molecules.\n",
      "WARNING conformer.py:557 Conformers not generated for discontiguous molecules.\n",
      "WARNING conformer.py:557 Conformers not generated for discontiguous molecules.\n",
      "WARNING conformer.py:557 Conformers not generated for discontiguous molecules.\n",
      "WARNING conformer.py:557 Conformers not generated for discontiguous molecules.\n",
      "WARNING conformer.py:557 Conformers not generated for discontiguous molecules.\n",
      "WARNING conformer.py:557 Conformers not generated for discontiguous molecules.\n",
      "WARNING conformer.py:557 Conformers not generated for discontiguous molecules.\n",
      "WARNING conformer.py:557 Conformers not generated for discontiguous molecules.\n",
      "WARNING conformer.py:557 Conformers not generated for discontiguous molecules.\n",
      "WARNING conformer.py:557 Conformers not generated for discontiguous molecules.\n",
      "WARNING conformer.py:557 Conformers not generated for discontiguous molecules.\n",
      "WARNING conformer.py:557 Conformers not generated for discontiguous molecules.\n",
      "WARNING conformer.py:557 Conformers not generated for discontiguous molecules.\n",
      "WARNING conformer.py:557 Conformers not generated for discontiguous molecules.\n",
      "WARNING conformer.py:557 Conformers not generated for discontiguous molecules.\n",
      "WARNING conformer.py:557 Conformers not generated for discontiguous molecules.\n",
      "WARNING conformer.py:557 Conformers not generated for discontiguous molecules.\n",
      "WARNING conformer.py:557 Conformers not generated for discontiguous molecules.\n",
      "WARNING conformer.py:557 Conformers not generated for discontiguous molecules.\n",
      "WARNING conformer.py:557 Conformers not generated for discontiguous molecules.\n",
      "WARNING conformer.py:557 Conformers not generated for discontiguous molecules.\n",
      "WARNING conformer.py:557 Conformers not generated for discontiguous molecules.\n",
      "WARNING conformer.py:557 Conformers not generated for discontiguous molecules.\n",
      "WARNING conformer.py:557 Conformers not generated for discontiguous molecules.\n",
      "WARNING conformer.py:557 Conformers not generated for discontiguous molecules.\n",
      "WARNING conformer.py:557 Conformers not generated for discontiguous molecules.\n",
      "WARNING conformer.py:557 Conformers not generated for discontiguous molecules.\n",
      "WARNING conformer.py:557 Conformers not generated for discontiguous molecules.\n",
      "WARNING conformer.py:557 Conformers not generated for discontiguous molecules.\n",
      "WARNING conformer.py:557 Conformers not generated for discontiguous molecules.\n",
      "WARNING conformer.py:557 Conformers not generated for discontiguous molecules.\n",
      "WARNING conformer.py:557 Conformers not generated for discontiguous molecules.\n",
      "WARNING conformer.py:557 Conformers not generated for discontiguous molecules.\n",
      "WARNING conformer.py:557 Conformers not generated for discontiguous molecules.\n",
      "WARNING conformer.py:557 Conformers not generated for discontiguous molecules.\n",
      "WARNING conformer.py:557 Conformers not generated for discontiguous molecules.\n",
      "WARNING conformer.py:557 Conformers not generated for discontiguous molecules.\n",
      "WARNING conformer.py:557 Conformers not generated for discontiguous molecules.\n",
      "WARNING conformer.py:557 Conformers not generated for discontiguous molecules.\n",
      "WARNING conformer.py:557 Conformers not generated for discontiguous molecules.\n",
      "WARNING conformer.py:557 Conformers not generated for discontiguous molecules.\n",
      "WARNING conformer.py:557 Conformers not generated for discontiguous molecules.\n",
      "WARNING conformer.py:557 Conformers not generated for discontiguous molecules.\n",
      "WARNING conformer.py:557 Conformers not generated for discontiguous molecules.\n",
      "WARNING conformer.py:557 Conformers not generated for discontiguous molecules.\n",
      "WARNING conformer.py:557 Conformers not generated for discontiguous molecules.\n",
      "WARNING conformer.py:557 Conformers not generated for discontiguous molecules.\n",
      "WARNING conformer.py:557 Conformers not generated for discontiguous molecules.\n",
      "WARNING conformer.py:557 Conformers not generated for discontiguous molecules.\n",
      "WARNING conformer.py:557 Conformers not generated for discontiguous molecules.\n",
      "WARNING conformer.py:557 Conformers not generated for discontiguous molecules.\n",
      "WARNING conformer.py:557 Conformers not generated for discontiguous molecules.\n",
      "WARNING conformer.py:557 Conformers not generated for discontiguous molecules.\n",
      "WARNING conformer.py:557 Conformers not generated for discontiguous molecules.\n",
      "WARNING conformer.py:557 Conformers not generated for discontiguous molecules.\n",
      "WARNING conformer.py:557 Conformers not generated for discontiguous molecules.\n",
      "WARNING conformer.py:557 Conformers not generated for discontiguous molecules.\n",
      "WARNING conformer.py:557 Conformers not generated for discontiguous molecules.\n",
      "WARNING conformer.py:557 Conformers not generated for discontiguous molecules.\n",
      "WARNING conformer.py:557 Conformers not generated for discontiguous molecules.\n",
      "WARNING conformer.py:557 Conformers not generated for discontiguous molecules.\n",
      "WARNING conformer.py:557 Conformers not generated for discontiguous molecules.\n",
      "WARNING conformer.py:557 Conformers not generated for discontiguous molecules.\n",
      "WARNING conformer.py:557 Conformers not generated for discontiguous molecules.\n",
      "WARNING conformer.py:557 Conformers not generated for discontiguous molecules.\n",
      "WARNING conformer.py:557 Conformers not generated for discontiguous molecules.\n",
      "WARNING conformer.py:557 Conformers not generated for discontiguous molecules.\n",
      "WARNING conformer.py:557 Conformers not generated for discontiguous molecules.\n",
      "WARNING conformer.py:557 Conformers not generated for discontiguous molecules.\n",
      "WARNING conformer.py:557 Conformers not generated for discontiguous molecules.\n",
      "WARNING conformer.py:557 Conformers not generated for discontiguous molecules.\n",
      "WARNING conformer.py:557 Conformers not generated for discontiguous molecules.\n",
      "WARNING conformer.py:557 Conformers not generated for discontiguous molecules.\n",
      "WARNING conformer.py:557 Conformers not generated for discontiguous molecules.\n",
      "WARNING conformer.py:557 Conformers not generated for discontiguous molecules.\n",
      "WARNING conformer.py:557 Conformers not generated for discontiguous molecules.\n",
      "WARNING conformer.py:557 Conformers not generated for discontiguous molecules.\n",
      "WARNING conformer.py:557 Conformers not generated for discontiguous molecules.\n",
      "WARNING conformer.py:557 Conformers not generated for discontiguous molecules.\n",
      "WARNING conformer.py:557 Conformers not generated for discontiguous molecules.\n",
      "WARNING conformer.py:557 Conformers not generated for discontiguous molecules.\n",
      "WARNING conformer.py:557 Conformers not generated for discontiguous molecules.\n",
      "WARNING conformer.py:557 Conformers not generated for discontiguous molecules.\n",
      "WARNING conformer.py:557 Conformers not generated for discontiguous molecules.\n"
     ]
    },
    {
     "output_type": "error",
     "ename": "KeyboardInterrupt",
     "evalue": "",
     "traceback": [
      "\u001b[1;31m---------------------------------------------------------------------------\u001b[0m",
      "\u001b[1;31mKeyboardInterrupt\u001b[0m                         Traceback (most recent call last)",
      "\u001b[1;32m<ipython-input-35-246af13e1796>\u001b[0m in \u001b[0;36m<module>\u001b[1;34m\u001b[0m\n\u001b[0;32m      5\u001b[0m      \u001b[0mcryst\u001b[0m \u001b[1;33m=\u001b[0m \u001b[0mcrystal_reader\u001b[0m\u001b[1;33m[\u001b[0m\u001b[1;36m0\u001b[0m\u001b[1;33m]\u001b[0m\u001b[1;33m\u001b[0m\u001b[1;33m\u001b[0m\u001b[0m\n\u001b[0;32m      6\u001b[0m      \u001b[0mmol2\u001b[0m \u001b[1;33m=\u001b[0m \u001b[0mcryst\u001b[0m\u001b[1;33m.\u001b[0m\u001b[0mmolecule\u001b[0m\u001b[1;33m\u001b[0m\u001b[1;33m\u001b[0m\u001b[0m\n\u001b[1;32m----> 7\u001b[1;33m      \u001b[0mchltemp\u001b[0m \u001b[1;33m=\u001b[0m \u001b[0mconformer\u001b[0m\u001b[1;33m.\u001b[0m\u001b[0mgenerate\u001b[0m\u001b[1;33m(\u001b[0m\u001b[0mmol\u001b[0m\u001b[1;33m)\u001b[0m\u001b[1;33m\u001b[0m\u001b[1;33m\u001b[0m\u001b[0m\n\u001b[0m\u001b[0;32m      8\u001b[0m      \u001b[1;32mif\u001b[0m\u001b[1;33m(\u001b[0m\u001b[0mmol2\u001b[0m\u001b[1;33m.\u001b[0m\u001b[0mcomponents\u001b[0m \u001b[1;33m==\u001b[0m \u001b[1;36m1\u001b[0m\u001b[1;33m)\u001b[0m\u001b[1;33m:\u001b[0m\u001b[1;33m\u001b[0m\u001b[1;33m\u001b[0m\u001b[0m\n\u001b[0;32m      9\u001b[0m         \u001b[0mprint\u001b[0m\u001b[1;33m(\u001b[0m\u001b[0mfilename\u001b[0m\u001b[1;33m)\u001b[0m\u001b[1;33m\u001b[0m\u001b[1;33m\u001b[0m\u001b[0m\n",
      "\u001b[1;32mc:\\Users\\Clamfighter\\Machine_Learning_Project\\my_env\\lib\\site-packages\\ccdc\\conformer.py\u001b[0m in \u001b[0;36mgenerate\u001b[1;34m(self, mols)\u001b[0m\n\u001b[0;32m    555\u001b[0m         \u001b[1;32mif\u001b[0m \u001b[0misinstance\u001b[0m\u001b[1;33m(\u001b[0m\u001b[0mmols\u001b[0m\u001b[1;33m,\u001b[0m \u001b[0mMolecule\u001b[0m\u001b[1;33m)\u001b[0m\u001b[1;33m:\u001b[0m\u001b[1;33m\u001b[0m\u001b[1;33m\u001b[0m\u001b[0m\n\u001b[0;32m    556\u001b[0m             \u001b[1;32mif\u001b[0m \u001b[0mlen\u001b[0m\u001b[1;33m(\u001b[0m\u001b[0mmols\u001b[0m\u001b[1;33m.\u001b[0m\u001b[0mcomponents\u001b[0m\u001b[1;33m)\u001b[0m \u001b[1;33m>\u001b[0m \u001b[1;36m1\u001b[0m\u001b[1;33m:\u001b[0m\u001b[1;33m\u001b[0m\u001b[1;33m\u001b[0m\u001b[0m\n\u001b[1;32m--> 557\u001b[1;33m                 \u001b[0mself\u001b[0m\u001b[1;33m.\u001b[0m\u001b[0mlogger\u001b[0m\u001b[1;33m.\u001b[0m\u001b[0mwarning\u001b[0m\u001b[1;33m(\u001b[0m\u001b[1;34m'Conformers not generated for discontiguous molecules.'\u001b[0m\u001b[1;33m)\u001b[0m\u001b[1;33m\u001b[0m\u001b[1;33m\u001b[0m\u001b[0m\n\u001b[0m\u001b[0;32m    558\u001b[0m                 \u001b[1;32mreturn\u001b[0m \u001b[1;32mNone\u001b[0m\u001b[1;33m\u001b[0m\u001b[1;33m\u001b[0m\u001b[0m\n\u001b[0;32m    559\u001b[0m             \u001b[1;32mif\u001b[0m \u001b[1;32mnot\u001b[0m \u001b[0mmols\u001b[0m\u001b[1;33m.\u001b[0m\u001b[0mall_atoms_have_sites\u001b[0m\u001b[1;33m:\u001b[0m\u001b[1;33m\u001b[0m\u001b[1;33m\u001b[0m\u001b[0m\n",
      "\u001b[1;31mKeyboardInterrupt\u001b[0m: "
     ]
    }
   ],
   "source": [
    "conformer = ConformerGenerator()\n",
    "import os\n",
    "for filename in os.listdir(r'C:\\Users\\Clamfighter\\Machine_Learning_Project\\my_env\\Masters\\T2_5679_predicted_crystals\\T2_5679_predicted_crystals'):\n",
    "     crystal_reader = CrystalReader(r'C:\\Users\\Clamfighter\\Machine_Learning_Project\\my_env\\Masters\\T2_5679_predicted_crystals\\T2_5679_predicted_crystals\\\\'+filename, format='cif')\n",
    "     cryst = crystal_reader[0]\n",
    "     mol2 = cryst.molecule\n",
    "     chltemp = conformer.generate(mol)\n",
    "     if(mol2.components == 1):\n",
    "        print(filename)\n",
    "        print(len(mol2.components))"
   ]
  },
  {
   "cell_type": "code",
   "execution_count": 59,
   "metadata": {},
   "outputs": [],
   "source": [
    "crystal_reader = CrystalReader(r'C:\\Users\\Clamfighter\\Machine_Learning_Project\\my_env\\Masters\\T2_5679_predicted_crystals\\T2_5679_predicted_crystals\\job_00001.cif', format='cif')\n",
    "cryst0 = crystal_reader[0]\n",
    "crystal_reader = CrystalReader(r'C:\\Users\\Clamfighter\\Machine_Learning_Project\\my_env\\Masters\\T2_5679_predicted_crystals\\T2_5679_predicted_crystals\\job_00011.cif', format='cif')\n",
    "cryst1 = crystal_reader[0]"
   ]
  },
  {
   "cell_type": "code",
   "execution_count": 60,
   "metadata": {},
   "outputs": [
    {
     "output_type": "stream",
     "name": "stdout",
     "text": [
      "0.21640852422677578\n"
     ]
    }
   ],
   "source": [
    "from ccdc.crystal import PackingSimilarity\n",
    "\n",
    "PS = PackingSimilarity()\n",
    "comp = PS.compare(cryst0,cryst1)\n",
    "print(comp.rmsd)"
   ]
  },
  {
   "cell_type": "code",
   "execution_count": null,
   "metadata": {},
   "outputs": [],
   "source": []
  }
 ]
}